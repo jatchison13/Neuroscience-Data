{
  "nbformat": 4,
  "nbformat_minor": 0,
  "metadata": {
    "colab": {
      "name": "Atchison-neural-coding-exercises.ipynb",
      "version": "0.3.2",
      "provenance": [],
      "collapsed_sections": [
        "lNvsa4E9C8w5",
        "4EBIgj3iC8yF",
        "s6RL9IvbC8zB",
        "GKYSrkFsC8zi"
      ],
      "include_colab_link": true
    },
    "kernelspec": {
      "display_name": "Python 3",
      "language": "python",
      "name": "python3"
    }
  },
  "cells": [
    {
      "cell_type": "markdown",
      "metadata": {
        "id": "view-in-github",
        "colab_type": "text"
      },
      "source": [
        "<a href=\"https://colab.research.google.com/github/jatchison13/Neuroscience-Data/blob/master/Atchison_neural_coding_exercises.ipynb\" target=\"_parent\"><img src=\"https://colab.research.google.com/assets/colab-badge.svg\" alt=\"Open In Colab\"/></a>"
      ]
    },
    {
      "metadata": {
        "id": "8WOBeC3WC8r0",
        "colab_type": "code",
        "colab": {}
      },
      "cell_type": "code",
      "source": [
        "%matplotlib inline\n",
        "import matplotlib.pyplot as plt\n",
        "import numpy as np\n",
        "import pandas as pd\n",
        "import seaborn as sns\n",
        "import h5py\n",
        "sns.set(font_scale=1.5)"
      ],
      "execution_count": 0,
      "outputs": []
    },
    {
      "metadata": {
        "id": "o_QR6OHL8Cui",
        "colab_type": "code",
        "outputId": "1cf73732-9129-4935-c748-a91eea2da596",
        "colab": {
          "base_uri": "https://localhost:8080/",
          "height": 221
        }
      },
      "cell_type": "code",
      "source": [
        "!pip install -U seaborn"
      ],
      "execution_count": 2,
      "outputs": [
        {
          "output_type": "stream",
          "text": [
            "Requirement already up-to-date: seaborn in /usr/local/lib/python3.6/dist-packages (0.9.0)\n",
            "Requirement already satisfied, skipping upgrade: numpy>=1.9.3 in /usr/local/lib/python3.6/dist-packages (from seaborn) (1.14.6)\n",
            "Requirement already satisfied, skipping upgrade: scipy>=0.14.0 in /usr/local/lib/python3.6/dist-packages (from seaborn) (1.1.0)\n",
            "Requirement already satisfied, skipping upgrade: matplotlib>=1.4.3 in /usr/local/lib/python3.6/dist-packages (from seaborn) (3.0.2)\n",
            "Requirement already satisfied, skipping upgrade: pandas>=0.15.2 in /usr/local/lib/python3.6/dist-packages (from seaborn) (0.22.0)\n",
            "Requirement already satisfied, skipping upgrade: kiwisolver>=1.0.1 in /usr/local/lib/python3.6/dist-packages (from matplotlib>=1.4.3->seaborn) (1.0.1)\n",
            "Requirement already satisfied, skipping upgrade: pyparsing!=2.0.4,!=2.1.2,!=2.1.6,>=2.0.1 in /usr/local/lib/python3.6/dist-packages (from matplotlib>=1.4.3->seaborn) (2.3.1)\n",
            "Requirement already satisfied, skipping upgrade: python-dateutil>=2.1 in /usr/local/lib/python3.6/dist-packages (from matplotlib>=1.4.3->seaborn) (2.5.3)\n",
            "Requirement already satisfied, skipping upgrade: cycler>=0.10 in /usr/local/lib/python3.6/dist-packages (from matplotlib>=1.4.3->seaborn) (0.10.0)\n",
            "Requirement already satisfied, skipping upgrade: pytz>=2011k in /usr/local/lib/python3.6/dist-packages (from pandas>=0.15.2->seaborn) (2018.9)\n",
            "Requirement already satisfied, skipping upgrade: setuptools in /usr/local/lib/python3.6/dist-packages (from kiwisolver>=1.0.1->matplotlib>=1.4.3->seaborn) (40.8.0)\n",
            "Requirement already satisfied, skipping upgrade: six>=1.5 in /usr/local/lib/python3.6/dist-packages (from python-dateutil>=2.1->matplotlib>=1.4.3->seaborn) (1.11.0)\n"
          ],
          "name": "stdout"
        }
      ]
    },
    {
      "metadata": {
        "id": "s6a6vEylC8sD",
        "colab_type": "text"
      },
      "cell_type": "markdown",
      "source": [
        "## Let's load some data obtained by the Buzsaki lab at NYU.  They recorded from the hippocampus of a rat while it ran back and forth across a linear track"
      ]
    },
    {
      "metadata": {
        "id": "VqJQeIzNC8sI",
        "colab_type": "code",
        "colab": {}
      },
      "cell_type": "code",
      "source": [
        "# The first file contains the times, cell IDs, and animal location for each spike that occurred\n",
        "spikes = pd.read_csv('https://github.com/rgerkin/neuro-data-analysis-course/raw/master/data/place_cell_spike_data.csv')\n",
        "\n",
        "# The first file contains the times, cell IDs, and animal location for each spike that occurred\n",
        "locations = pd.read_csv('https://github.com/rgerkin/neuro-data-analysis-course/raw/master/data/place_cell_location_data.csv')"
      ],
      "execution_count": 0,
      "outputs": []
    },
    {
      "metadata": {
        "id": "Aw6Jo4HZC8sV",
        "colab_type": "text"
      },
      "cell_type": "markdown",
      "source": [
        "#### This first dataframe contains one row for each spike that was recorded.  The cell_id is arbitrary, but any two rows with the same cell id correspond to spikes reocrded from the same cell.  The index is time (starting several hours into the experiment), and the other columns are the linear location on the track (\"d\", measured from the track's left edge) and also the actual 2d coordinates (\"x\" and \"y\", which we will ignore). I've restricted the data to 0.2m < d < 1.4m, which is where the rat actually runs on the track (instead of sitting at the ends doing nothing).  "
      ]
    },
    {
      "metadata": {
        "id": "pmZNr_zLC8sa",
        "colab_type": "code",
        "outputId": "8ef7418a-fd76-4e24-b057-fee412af6c6e",
        "colab": {
          "base_uri": "https://localhost:8080/",
          "height": 235
        }
      },
      "cell_type": "code",
      "source": [
        "spikes = spikes.set_index('t')\n",
        "spikes.head()"
      ],
      "execution_count": 4,
      "outputs": [
        {
          "output_type": "execute_result",
          "data": {
            "text/html": [
              "<div>\n",
              "<style scoped>\n",
              "    .dataframe tbody tr th:only-of-type {\n",
              "        vertical-align: middle;\n",
              "    }\n",
              "\n",
              "    .dataframe tbody tr th {\n",
              "        vertical-align: top;\n",
              "    }\n",
              "\n",
              "    .dataframe thead th {\n",
              "        text-align: right;\n",
              "    }\n",
              "</style>\n",
              "<table border=\"1\" class=\"dataframe\">\n",
              "  <thead>\n",
              "    <tr style=\"text-align: right;\">\n",
              "      <th></th>\n",
              "      <th>cell_ids</th>\n",
              "      <th>d</th>\n",
              "      <th>x</th>\n",
              "      <th>y</th>\n",
              "    </tr>\n",
              "    <tr>\n",
              "      <th>t</th>\n",
              "      <th></th>\n",
              "      <th></th>\n",
              "      <th></th>\n",
              "      <th></th>\n",
              "    </tr>\n",
              "  </thead>\n",
              "  <tbody>\n",
              "    <tr>\n",
              "      <th>18194.76930</th>\n",
              "      <td>609</td>\n",
              "      <td>0.200284</td>\n",
              "      <td>-0.061786</td>\n",
              "      <td>-0.189188</td>\n",
              "    </tr>\n",
              "    <tr>\n",
              "      <th>18194.77235</th>\n",
              "      <td>529</td>\n",
              "      <td>0.201205</td>\n",
              "      <td>-0.060900</td>\n",
              "      <td>-0.189143</td>\n",
              "    </tr>\n",
              "    <tr>\n",
              "      <th>18194.77305</th>\n",
              "      <td>1209</td>\n",
              "      <td>0.202125</td>\n",
              "      <td>-0.060015</td>\n",
              "      <td>-0.189098</td>\n",
              "    </tr>\n",
              "    <tr>\n",
              "      <th>18194.77855</th>\n",
              "      <td>416</td>\n",
              "      <td>0.203724</td>\n",
              "      <td>-0.058476</td>\n",
              "      <td>-0.189284</td>\n",
              "    </tr>\n",
              "    <tr>\n",
              "      <th>18194.77955</th>\n",
              "      <td>828</td>\n",
              "      <td>0.204402</td>\n",
              "      <td>-0.057822</td>\n",
              "      <td>-0.189515</td>\n",
              "    </tr>\n",
              "  </tbody>\n",
              "</table>\n",
              "</div>"
            ],
            "text/plain": [
              "             cell_ids         d         x         y\n",
              "t                                                  \n",
              "18194.76930       609  0.200284 -0.061786 -0.189188\n",
              "18194.77235       529  0.201205 -0.060900 -0.189143\n",
              "18194.77305      1209  0.202125 -0.060015 -0.189098\n",
              "18194.77855       416  0.203724 -0.058476 -0.189284\n",
              "18194.77955       828  0.204402 -0.057822 -0.189515"
            ]
          },
          "metadata": {
            "tags": []
          },
          "execution_count": 4
        }
      ]
    },
    {
      "metadata": {
        "id": "RB7ArPOuC8sn",
        "colab_type": "text"
      },
      "cell_type": "markdown",
      "source": [
        "#### The second dataframe contains one row for each ~25 ms of elapsed time.  They were recording the movement of the rat with a video camera, so each row is derived from one frame of that movie.  "
      ]
    },
    {
      "metadata": {
        "id": "et4gfTsdC8ss",
        "colab_type": "code",
        "outputId": "5d73bb36-73bd-42d1-a0de-0ce14d0a302d",
        "colab": {
          "base_uri": "https://localhost:8080/",
          "height": 235
        }
      },
      "cell_type": "code",
      "source": [
        "locations = locations.set_index('t')\n",
        "locations.head()"
      ],
      "execution_count": 5,
      "outputs": [
        {
          "output_type": "execute_result",
          "data": {
            "text/html": [
              "<div>\n",
              "<style scoped>\n",
              "    .dataframe tbody tr th:only-of-type {\n",
              "        vertical-align: middle;\n",
              "    }\n",
              "\n",
              "    .dataframe tbody tr th {\n",
              "        vertical-align: top;\n",
              "    }\n",
              "\n",
              "    .dataframe thead th {\n",
              "        text-align: right;\n",
              "    }\n",
              "</style>\n",
              "<table border=\"1\" class=\"dataframe\">\n",
              "  <thead>\n",
              "    <tr style=\"text-align: right;\">\n",
              "      <th></th>\n",
              "      <th>d</th>\n",
              "      <th>x</th>\n",
              "      <th>y</th>\n",
              "    </tr>\n",
              "    <tr>\n",
              "      <th>t</th>\n",
              "      <th></th>\n",
              "      <th></th>\n",
              "      <th></th>\n",
              "    </tr>\n",
              "  </thead>\n",
              "  <tbody>\n",
              "    <tr>\n",
              "      <th>18194.776399</th>\n",
              "      <td>0.203045</td>\n",
              "      <td>-0.059129</td>\n",
              "      <td>-0.189053</td>\n",
              "    </tr>\n",
              "    <tr>\n",
              "      <th>18194.801998</th>\n",
              "      <td>0.213904</td>\n",
              "      <td>-0.048677</td>\n",
              "      <td>-0.192750</td>\n",
              "    </tr>\n",
              "    <tr>\n",
              "      <th>18194.827598</th>\n",
              "      <td>0.219871</td>\n",
              "      <td>-0.042934</td>\n",
              "      <td>-0.198324</td>\n",
              "    </tr>\n",
              "    <tr>\n",
              "      <th>18194.853198</th>\n",
              "      <td>0.225473</td>\n",
              "      <td>-0.037541</td>\n",
              "      <td>-0.203761</td>\n",
              "    </tr>\n",
              "    <tr>\n",
              "      <th>18194.878798</th>\n",
              "      <td>0.236299</td>\n",
              "      <td>-0.027121</td>\n",
              "      <td>-0.207461</td>\n",
              "    </tr>\n",
              "  </tbody>\n",
              "</table>\n",
              "</div>"
            ],
            "text/plain": [
              "                     d         x         y\n",
              "t                                         \n",
              "18194.776399  0.203045 -0.059129 -0.189053\n",
              "18194.801998  0.213904 -0.048677 -0.192750\n",
              "18194.827598  0.219871 -0.042934 -0.198324\n",
              "18194.853198  0.225473 -0.037541 -0.203761\n",
              "18194.878798  0.236299 -0.027121 -0.207461"
            ]
          },
          "metadata": {
            "tags": []
          },
          "execution_count": 5
        }
      ]
    },
    {
      "metadata": {
        "id": "GuyrfGg8C8s8",
        "colab_type": "text"
      },
      "cell_type": "markdown",
      "source": [
        "## (1)"
      ]
    },
    {
      "metadata": {
        "id": "t8zGj8bxC8tB",
        "colab_type": "text"
      },
      "cell_type": "markdown",
      "source": [
        "### (a)\n",
        "#### Let's take a brief look at this data.  A good strategy is to figure out the range of your data (highs, lows, typical values) by making a histogram.  Access the \"d\" column of the locations dataframe, and then make a histogram with the `.hist()` method.  \n",
        "\n",
        "#### You can use the default number of histogram bins, or change it with the \"bins\" argument (e.g. `.hist(bins=100)`).  You should see that the rat was on most of the track, slightly preferring the left-side (near d=0) to the right side.  "
      ]
    },
    {
      "metadata": {
        "id": "xLJvc92ZC8tF",
        "colab_type": "code",
        "outputId": "1381ead3-da00-4fe8-958c-6a2555062aa4",
        "colab": {
          "base_uri": "https://localhost:8080/",
          "height": 318
        }
      },
      "cell_type": "code",
      "source": [
        "\n",
        "locations.hist('d')\n",
        "plt.xlabel('Location along track (m)')\n",
        "plt.ylabel('# of samples that animal\\nwas present there');"
      ],
      "execution_count": 6,
      "outputs": [
        {
          "output_type": "display_data",
          "data": {
            "image/png": "[encoded data removed]",
            "text/plain": [
              "<Figure size 432x288 with 1 Axes>"
            ]
          },
          "metadata": {
            "tags": []
          }
        }
      ]
    },
    {
      "metadata": {
        "id": "8EJv6GSdC8tf",
        "colab_type": "text"
      },
      "cell_type": "markdown",
      "source": [
        "### (b)\n",
        "#### Do the same thing with the `spikes` dataframe to see at what locations on the track the spikes occurred.  "
      ]
    },
    {
      "metadata": {
        "id": "qRuP2f2lC8tq",
        "colab_type": "code",
        "outputId": "6636134e-fc7e-43b3-e930-ed6d98923d60",
        "colab": {
          "base_uri": "https://localhost:8080/",
          "height": 318
        }
      },
      "cell_type": "code",
      "source": [
        "spikes.hist('d', bins=64)\n",
        "plt.xlabel('Location along track (m)')\n",
        "plt.ylabel('# of spikes observed there');"
      ],
      "execution_count": 7,
      "outputs": [
        {
          "output_type": "display_data",
          "data": {
            "image/png": "[encoded data removed]",
            "text/plain": [
              "<Figure size 432x288 with 1 Axes>"
            ]
          },
          "metadata": {
            "tags": []
          }
        }
      ]
    },
    {
      "metadata": {
        "id": "TqWhzilaC8t-",
        "colab_type": "text"
      },
      "cell_type": "markdown",
      "source": [
        "### (c)\n",
        "#### That shows us the histogram, but we are actually going to want to use the values plotted there for our analysis.  Use the function `np.histogram` to extract the counts in each bin (the number of video frames that the rat was at that approximate location), and the locations of the edges of each bin, using 64 bins.  "
      ]
    },
    {
      "metadata": {
        "id": "Vl21JA7pC8uF",
        "colab_type": "code",
        "colab": {}
      },
      "cell_type": "code",
      "source": [
        "frames_at_each_location, bin_edges = np.histogram(spikes['d'], bins=64)"
      ],
      "execution_count": 0,
      "outputs": []
    },
    {
      "metadata": {
        "id": "MIMDgh4JC8uk",
        "colab_type": "text"
      },
      "cell_type": "markdown",
      "source": [
        "#### If you check, you will see that there are 101 bin edges, not 100.  That is because each bin edge is both the left edge of one bin and the right edge of another.  Let's find the center of each bin, which is a better description of data in the bin.  "
      ]
    },
    {
      "metadata": {
        "id": "kfLFDFXqC8uo",
        "colab_type": "code",
        "colab": {}
      },
      "cell_type": "code",
      "source": [
        "# This statement takes the average of the left-bin edges and the right-bin edges.  \n",
        "bin_centers = (bin_edges[1:] + bin_edges[:-1]) / 2\n",
        "bin_centers = bin_centers.round(3)"
      ],
      "execution_count": 0,
      "outputs": []
    },
    {
      "metadata": {
        "id": "EQl2awqXC8u4",
        "colab_type": "text"
      },
      "cell_type": "markdown",
      "source": [
        "### (d) \n",
        "#### Notice that the histogram above is noisy.  Noisy data can cause problems with analysis, especially if we do lots of mathematical operations it.  It is sometimes better to work with smoothed data.  Below I show an example of something called gaussian smoothing, One trace below is original (fake) data, and the other is smoothed data. Change the smoothing_width to 3 to get some reasonably good smoothing.  "
      ]
    },
    {
      "metadata": {
        "id": "MmGck_mqC8u9",
        "colab_type": "code",
        "outputId": "6a3151cc-fbf2-485b-c29a-50bed94c6891",
        "colab": {
          "base_uri": "https://localhost:8080/",
          "height": 282
        }
      },
      "cell_type": "code",
      "source": [
        "from scipy.ndimage.filters import gaussian_filter\n",
        "noisy = np.linspace(0,3,100) + np.random.rand(100)\n",
        "smoothing_width = 3\n",
        "smooth = gaussian_filter(noisy, smoothing_width)\n",
        "plt.plot(noisy) # The blue trace\n",
        "plt.plot(smooth); # The orange trace"
      ],
      "execution_count": 10,
      "outputs": [
        {
          "output_type": "display_data",
          "data": {
            "image/png": "[encoded data removed]",
            "text/plain": [
              "<Figure size 432x288 with 1 Axes>"
            ]
          },
          "metadata": {
            "tags": []
          }
        }
      ]
    },
    {
      "metadata": {
        "id": "cVX4dp0wC8vL",
        "colab_type": "text"
      },
      "cell_type": "markdown",
      "source": [
        "### (e) \n",
        "#### Now let's smooth the location data.  First we need to figure out how long one video frame is.  They are all the same length, so we just need to subtract any two adjacent times in the index of the `locations` dataframe.  Then we need to multiply the number of frames at a given location by the duration of those frames to get the duration that the rat spent at each location.  Finally, we need to smooth those durations (using a smoothing width of 3).  "
      ]
    },
    {
      "metadata": {
        "id": "XOGoxTxVC8vQ",
        "colab_type": "code",
        "outputId": "9ed79249-6b8b-44a7-f4ed-e530b366ee83",
        "colab": {
          "base_uri": "https://localhost:8080/",
          "height": 530
        }
      },
      "cell_type": "code",
      "source": [
        "frame_duration = locations.index[2] - locations.index[1]\n",
        "print(frame_duration)\n",
        "durations_at_each_location = frames_at_each_location * frame_duration\n",
        "durations_at_each_location = gaussian_filter(durations_at_each_location, 3)\n",
        "plt.plot(durations_at_each_location)\n",
        "plt.xlabel('Location on track (m)')\n",
        "plt.ylabel('Duration spent at this location');\n",
        "print(durations_at_each_location)"
      ],
      "execution_count": 11,
      "outputs": [
        {
          "output_type": "stream",
          "text": [
            "0.025599910848541185\n",
            "[59.65459889 59.12857751 58.09931075 56.62395618 54.80840261 52.8137189\n",
            " 50.84493215 49.12379137 47.84945684 47.15156109 47.05760355 47.47475365\n",
            " 48.20624293 48.99870387 49.61397544 49.89967612 49.82512199 49.46080313\n",
            " 48.90783653 48.22420087 47.39428953 46.36555255 45.1225913  43.74167052\n",
            " 42.38621834 41.24189667 40.43218623 39.96406033 39.73497138 39.59223161\n",
            " 39.40814381 39.12832567 38.76944386 38.37939942 37.99523233 37.62183325\n",
            " 37.24161144 36.83186106 36.38015424 35.88968698 35.37936208 34.88154786\n",
            " 34.43572469 34.07927387 33.83544091 33.70561569 33.67142476 33.70628329\n",
            " 33.78864096 33.91036422 34.07175216 34.26924384 34.48816721 34.70904013\n",
            " 34.92448584 35.14766719 35.3993895  35.67843294 35.94394082 36.12789559\n",
            " 36.17748872 36.09671379 35.9545374  35.8485056 ]\n"
          ],
          "name": "stdout"
        },
        {
          "output_type": "display_data",
          "data": {
            "image/png": "[encoded data removed]",
            "text/plain": [
              "<Figure size 432x288 with 1 Axes>"
            ]
          },
          "metadata": {
            "tags": []
          }
        }
      ]
    },
    {
      "metadata": {
        "id": "VjHhJS7WC8vg",
        "colab_type": "text"
      },
      "cell_type": "markdown",
      "source": [
        "## (2)"
      ]
    },
    {
      "metadata": {
        "id": "P_rt5NDUC8vk",
        "colab_type": "text"
      },
      "cell_type": "markdown",
      "source": [
        "### (a)\n",
        "#### Now that we know about how long the rat spent at each location, and from the `spikes` dataframe we know how many spikes occurred in each cell at each location, we can compute the firing rate (spikes per second) of each cell at each location.  First, I need to make an empty data frame to hold this data.  I will want to store the firing rate over the length of the track in each row of the data frame, so each row needs a cell ID associated with it.  Extract all the unique cell_ids in this dataset by applying the `.unique()` method to the `cell_ids` column of the `spikes` dataframe.  "
      ]
    },
    {
      "metadata": {
        "id": "ulscPBZlC8v5",
        "colab_type": "code",
        "colab": {}
      },
      "cell_type": "code",
      "source": [
        "cell_ids = spikes['cell_ids'].unique()\n",
        "spike_rates = pd.DataFrame(index=cell_ids, columns=bin_centers)\n",
        "spike_rates.index.name = 'Cell ID'\n",
        "spike_rates.columns.name = 'Location on Track (m)'"
      ],
      "execution_count": 0,
      "outputs": []
    },
    {
      "metadata": {
        "id": "D55GN6WbC8wE",
        "colab_type": "text"
      },
      "cell_type": "markdown",
      "source": [
        "### (b)\n",
        "#### Now the fun part. I prepared a `for` loop, which will go through each of the cells (by id number) and then fill in the `spike_rates` data frame in the appropriate row.  The first line in that for loop requires you to get the subset of the `spikes` data that corresponds to only the current `cell_id`, using a selector.  In the second line you compute the histogram, so you get spike counts as a function of track location for one cell at a time.  In the third line you apply smoothing to stabilize the data.  In the fourth line you turn counts and durations into rates.  Finally, in the fifth line you fill the empty dataframe that we created above with the rate data that you computed for that cell.  "
      ]
    },
    {
      "metadata": {
        "id": "XfWP7R3dC8wJ",
        "colab_type": "code",
        "outputId": "5b4012ae-568f-4ef5-f009-e8e1e6e01fe5",
        "colab": {
          "base_uri": "https://localhost:8080/",
          "height": 2054
        }
      },
      "cell_type": "code",
      "source": [
        "for cell_id in cell_ids:\n",
        "    # 1\n",
        "    is_it_this_cell_id = (spikes['cell_ids'] == cell_id)\n",
        "    cell_spikes = spikes[is_it_this_cell_id]\n",
        "    # 2\n",
        "    spike_counts_at_each_location, bin_edges = np.histogram(cell_spikes, bins=64)\n",
        "    spike_counts_at_each_location = spike_counts_at_each_location.astype('float') # Make these values decimals for safety\n",
        "    # 3\n",
        "    spike_counts_at_each_location = gaussian_filter(spike_counts_at_each_location, 3)\n",
        "    # 4\n",
        "    spike_rates_at_each_location = spike_counts_at_each_location / durations_at_each_location\n",
        "    # 5\n",
        "    spike_rates.loc[cell_id, :] = spike_rates_at_each_location\n",
        "\n",
        "spike_rates\n",
        "\n",
        "   "
      ],
      "execution_count": 13,
      "outputs": [
        {
          "output_type": "execute_result",
          "data": {
            "text/html": [
              "<div>\n",
              "<style scoped>\n",
              "    .dataframe tbody tr th:only-of-type {\n",
              "        vertical-align: middle;\n",
              "    }\n",
              "\n",
              "    .dataframe tbody tr th {\n",
              "        vertical-align: top;\n",
              "    }\n",
              "\n",
              "    .dataframe thead th {\n",
              "        text-align: right;\n",
              "    }\n",
              "</style>\n",
              "<table border=\"1\" class=\"dataframe\">\n",
              "  <thead>\n",
              "    <tr style=\"text-align: right;\">\n",
              "      <th>Location on Track (m)</th>\n",
              "      <th>0.209</th>\n",
              "      <th>0.228</th>\n",
              "      <th>0.247</th>\n",
              "      <th>0.266</th>\n",
              "      <th>0.284</th>\n",
              "      <th>0.303</th>\n",
              "      <th>0.322</th>\n",
              "      <th>0.341</th>\n",
              "      <th>0.359</th>\n",
              "      <th>0.378</th>\n",
              "      <th>...</th>\n",
              "      <th>1.222</th>\n",
              "      <th>1.241</th>\n",
              "      <th>1.259</th>\n",
              "      <th>1.278</th>\n",
              "      <th>1.297</th>\n",
              "      <th>1.316</th>\n",
              "      <th>1.334</th>\n",
              "      <th>1.353</th>\n",
              "      <th>1.372</th>\n",
              "      <th>1.391</th>\n",
              "    </tr>\n",
              "    <tr>\n",
              "      <th>Cell ID</th>\n",
              "      <th></th>\n",
              "      <th></th>\n",
              "      <th></th>\n",
              "      <th></th>\n",
              "      <th></th>\n",
              "      <th></th>\n",
              "      <th></th>\n",
              "      <th></th>\n",
              "      <th></th>\n",
              "      <th></th>\n",
              "      <th></th>\n",
              "      <th></th>\n",
              "      <th></th>\n",
              "      <th></th>\n",
              "      <th></th>\n",
              "      <th></th>\n",
              "      <th></th>\n",
              "      <th></th>\n",
              "      <th></th>\n",
              "      <th></th>\n",
              "      <th></th>\n",
              "    </tr>\n",
              "  </thead>\n",
              "  <tbody>\n",
              "    <tr>\n",
              "      <th>609</th>\n",
              "      <td>111.817</td>\n",
              "      <td>101.26</td>\n",
              "      <td>83.0276</td>\n",
              "      <td>61.6044</td>\n",
              "      <td>41.3066</td>\n",
              "      <td>24.9677</td>\n",
              "      <td>13.5551</td>\n",
              "      <td>6.57974</td>\n",
              "      <td>2.84218</td>\n",
              "      <td>1.08864</td>\n",
              "      <td>...</td>\n",
              "      <td>0.489925</td>\n",
              "      <td>1.28976</td>\n",
              "      <td>3.04357</td>\n",
              "      <td>6.43908</td>\n",
              "      <td>12.2286</td>\n",
              "      <td>20.8883</td>\n",
              "      <td>32.1405</td>\n",
              "      <td>44.5456</td>\n",
              "      <td>55.5085</td>\n",
              "      <td>62.0238</td>\n",
              "    </tr>\n",
              "    <tr>\n",
              "      <th>529</th>\n",
              "      <td>0.0910983</td>\n",
              "      <td>0.0824975</td>\n",
              "      <td>0.0676435</td>\n",
              "      <td>0.0501898</td>\n",
              "      <td>0.0336529</td>\n",
              "      <td>0.0203414</td>\n",
              "      <td>0.0110435</td>\n",
              "      <td>0.00536059</td>\n",
              "      <td>0.00231555</td>\n",
              "      <td>0.000886929</td>\n",
              "      <td>...</td>\n",
              "      <td>0.000399148</td>\n",
              "      <td>0.00105079</td>\n",
              "      <td>0.00247963</td>\n",
              "      <td>0.00524599</td>\n",
              "      <td>0.0099628</td>\n",
              "      <td>0.0170179</td>\n",
              "      <td>0.0261852</td>\n",
              "      <td>0.0362918</td>\n",
              "      <td>0.0452234</td>\n",
              "      <td>0.0505315</td>\n",
              "    </tr>\n",
              "    <tr>\n",
              "      <th>1209</th>\n",
              "      <td>126.848</td>\n",
              "      <td>114.872</td>\n",
              "      <td>94.1888</td>\n",
              "      <td>69.8857</td>\n",
              "      <td>46.8593</td>\n",
              "      <td>28.324</td>\n",
              "      <td>15.3773</td>\n",
              "      <td>7.46424</td>\n",
              "      <td>3.22424</td>\n",
              "      <td>1.23499</td>\n",
              "      <td>...</td>\n",
              "      <td>0.555785</td>\n",
              "      <td>1.46314</td>\n",
              "      <td>3.45271</td>\n",
              "      <td>7.30466</td>\n",
              "      <td>13.8725</td>\n",
              "      <td>23.6962</td>\n",
              "      <td>36.461</td>\n",
              "      <td>50.5337</td>\n",
              "      <td>62.9703</td>\n",
              "      <td>70.3615</td>\n",
              "    </tr>\n",
              "    <tr>\n",
              "      <th>416</th>\n",
              "      <td>5.43987</td>\n",
              "      <td>4.92628</td>\n",
              "      <td>4.03929</td>\n",
              "      <td>2.99705</td>\n",
              "      <td>2.00956</td>\n",
              "      <td>1.21467</td>\n",
              "      <td>0.659455</td>\n",
              "      <td>0.320104</td>\n",
              "      <td>0.138272</td>\n",
              "      <td>0.0529623</td>\n",
              "      <td>...</td>\n",
              "      <td>0.0238348</td>\n",
              "      <td>0.0627469</td>\n",
              "      <td>0.14807</td>\n",
              "      <td>0.31326</td>\n",
              "      <td>0.594922</td>\n",
              "      <td>1.01621</td>\n",
              "      <td>1.56363</td>\n",
              "      <td>2.16714</td>\n",
              "      <td>2.70048</td>\n",
              "      <td>3.01745</td>\n",
              "    </tr>\n",
              "    <tr>\n",
              "      <th>828</th>\n",
              "      <td>18.2847</td>\n",
              "      <td>16.5584</td>\n",
              "      <td>13.577</td>\n",
              "      <td>10.0738</td>\n",
              "      <td>6.75462</td>\n",
              "      <td>4.08282</td>\n",
              "      <td>2.21659</td>\n",
              "      <td>1.07595</td>\n",
              "      <td>0.464765</td>\n",
              "      <td>0.178019</td>\n",
              "      <td>...</td>\n",
              "      <td>0.0801146</td>\n",
              "      <td>0.210908</td>\n",
              "      <td>0.497698</td>\n",
              "      <td>1.05294</td>\n",
              "      <td>1.99968</td>\n",
              "      <td>3.41574</td>\n",
              "      <td>5.25575</td>\n",
              "      <td>7.28428</td>\n",
              "      <td>9.07698</td>\n",
              "      <td>10.1424</td>\n",
              "    </tr>\n",
              "    <tr>\n",
              "      <th>119</th>\n",
              "      <td>102.199</td>\n",
              "      <td>92.5504</td>\n",
              "      <td>75.8864</td>\n",
              "      <td>56.3058</td>\n",
              "      <td>37.7538</td>\n",
              "      <td>22.8202</td>\n",
              "      <td>12.3892</td>\n",
              "      <td>6.01382</td>\n",
              "      <td>2.59772</td>\n",
              "      <td>0.995007</td>\n",
              "      <td>...</td>\n",
              "      <td>0.447787</td>\n",
              "      <td>1.17883</td>\n",
              "      <td>2.7818</td>\n",
              "      <td>5.88525</td>\n",
              "      <td>11.1768</td>\n",
              "      <td>19.0917</td>\n",
              "      <td>29.3761</td>\n",
              "      <td>40.7142</td>\n",
              "      <td>50.7342</td>\n",
              "      <td>56.6891</td>\n",
              "    </tr>\n",
              "    <tr>\n",
              "      <th>410</th>\n",
              "      <td>36.4133</td>\n",
              "      <td>32.9754</td>\n",
              "      <td>27.0381</td>\n",
              "      <td>20.0616</td>\n",
              "      <td>13.4516</td>\n",
              "      <td>8.13077</td>\n",
              "      <td>4.41424</td>\n",
              "      <td>2.14271</td>\n",
              "      <td>0.92556</td>\n",
              "      <td>0.354518</td>\n",
              "      <td>...</td>\n",
              "      <td>0.159545</td>\n",
              "      <td>0.420014</td>\n",
              "      <td>0.991145</td>\n",
              "      <td>2.0969</td>\n",
              "      <td>3.98227</td>\n",
              "      <td>6.8023</td>\n",
              "      <td>10.4666</td>\n",
              "      <td>14.5063</td>\n",
              "      <td>18.0764</td>\n",
              "      <td>20.1982</td>\n",
              "    </tr>\n",
              "    <tr>\n",
              "      <th>537</th>\n",
              "      <td>111.01</td>\n",
              "      <td>100.529</td>\n",
              "      <td>82.4285</td>\n",
              "      <td>61.1599</td>\n",
              "      <td>41.0085</td>\n",
              "      <td>24.7875</td>\n",
              "      <td>13.4573</td>\n",
              "      <td>6.53226</td>\n",
              "      <td>2.82167</td>\n",
              "      <td>1.08079</td>\n",
              "      <td>...</td>\n",
              "      <td>0.48639</td>\n",
              "      <td>1.28046</td>\n",
              "      <td>3.02161</td>\n",
              "      <td>6.39261</td>\n",
              "      <td>12.1404</td>\n",
              "      <td>20.7375</td>\n",
              "      <td>31.9086</td>\n",
              "      <td>44.2241</td>\n",
              "      <td>55.1079</td>\n",
              "      <td>61.5762</td>\n",
              "    </tr>\n",
              "    <tr>\n",
              "      <th>615</th>\n",
              "      <td>13.9511</td>\n",
              "      <td>12.6339</td>\n",
              "      <td>10.3591</td>\n",
              "      <td>7.68621</td>\n",
              "      <td>5.1537</td>\n",
              "      <td>3.11515</td>\n",
              "      <td>1.69123</td>\n",
              "      <td>0.820936</td>\n",
              "      <td>0.354611</td>\n",
              "      <td>0.135827</td>\n",
              "      <td>...</td>\n",
              "      <td>0.0611266</td>\n",
              "      <td>0.16092</td>\n",
              "      <td>0.379738</td>\n",
              "      <td>0.803386</td>\n",
              "      <td>1.52573</td>\n",
              "      <td>2.60617</td>\n",
              "      <td>4.01008</td>\n",
              "      <td>5.55783</td>\n",
              "      <td>6.92564</td>\n",
              "      <td>7.73853</td>\n",
              "    </tr>\n",
              "    <tr>\n",
              "      <th>819</th>\n",
              "      <td>9.85163</td>\n",
              "      <td>8.92151</td>\n",
              "      <td>7.31517</td>\n",
              "      <td>5.42767</td>\n",
              "      <td>3.63932</td>\n",
              "      <td>2.19978</td>\n",
              "      <td>1.19428</td>\n",
              "      <td>0.57971</td>\n",
              "      <td>0.250411</td>\n",
              "      <td>0.095915</td>\n",
              "      <td>...</td>\n",
              "      <td>0.043165</td>\n",
              "      <td>0.113635</td>\n",
              "      <td>0.268155</td>\n",
              "      <td>0.567316</td>\n",
              "      <td>1.07741</td>\n",
              "      <td>1.84036</td>\n",
              "      <td>2.83174</td>\n",
              "      <td>3.9247</td>\n",
              "      <td>4.89059</td>\n",
              "      <td>5.46462</td>\n",
              "    </tr>\n",
              "    <tr>\n",
              "      <th>305</th>\n",
              "      <td>15.2264</td>\n",
              "      <td>13.7889</td>\n",
              "      <td>11.3061</td>\n",
              "      <td>8.38887</td>\n",
              "      <td>5.62485</td>\n",
              "      <td>3.39993</td>\n",
              "      <td>1.84584</td>\n",
              "      <td>0.895985</td>\n",
              "      <td>0.387028</td>\n",
              "      <td>0.148244</td>\n",
              "      <td>...</td>\n",
              "      <td>0.0667147</td>\n",
              "      <td>0.175631</td>\n",
              "      <td>0.414453</td>\n",
              "      <td>0.87683</td>\n",
              "      <td>1.66521</td>\n",
              "      <td>2.84442</td>\n",
              "      <td>4.37667</td>\n",
              "      <td>6.06591</td>\n",
              "      <td>7.55877</td>\n",
              "      <td>8.44597</td>\n",
              "    </tr>\n",
              "    <tr>\n",
              "      <th>930</th>\n",
              "      <td>43.2847</td>\n",
              "      <td>39.1981</td>\n",
              "      <td>32.1403</td>\n",
              "      <td>23.8473</td>\n",
              "      <td>15.9899</td>\n",
              "      <td>9.66509</td>\n",
              "      <td>5.24724</td>\n",
              "      <td>2.54705</td>\n",
              "      <td>1.10022</td>\n",
              "      <td>0.421418</td>\n",
              "      <td>...</td>\n",
              "      <td>0.189652</td>\n",
              "      <td>0.499273</td>\n",
              "      <td>1.17818</td>\n",
              "      <td>2.49259</td>\n",
              "      <td>4.73375</td>\n",
              "      <td>8.08593</td>\n",
              "      <td>12.4417</td>\n",
              "      <td>17.2438</td>\n",
              "      <td>21.4876</td>\n",
              "      <td>24.0097</td>\n",
              "    </tr>\n",
              "    <tr>\n",
              "      <th>103</th>\n",
              "      <td>73.868</td>\n",
              "      <td>66.9244</td>\n",
              "      <td>54.9249</td>\n",
              "      <td>40.8096</td>\n",
              "      <td>27.4147</td>\n",
              "      <td>16.6103</td>\n",
              "      <td>9.04419</td>\n",
              "      <td>4.40542</td>\n",
              "      <td>1.91074</td>\n",
              "      <td>0.735339</td>\n",
              "      <td>...</td>\n",
              "      <td>0.324336</td>\n",
              "      <td>0.853838</td>\n",
              "      <td>2.01488</td>\n",
              "      <td>4.26274</td>\n",
              "      <td>8.09549</td>\n",
              "      <td>13.8283</td>\n",
              "      <td>21.2774</td>\n",
              "      <td>29.4897</td>\n",
              "      <td>36.7472</td>\n",
              "      <td>41.0604</td>\n",
              "    </tr>\n",
              "    <tr>\n",
              "      <th>1303</th>\n",
              "      <td>19.8594</td>\n",
              "      <td>17.9844</td>\n",
              "      <td>14.7463</td>\n",
              "      <td>10.9414</td>\n",
              "      <td>7.33634</td>\n",
              "      <td>4.43443</td>\n",
              "      <td>2.40748</td>\n",
              "      <td>1.16861</td>\n",
              "      <td>0.504791</td>\n",
              "      <td>0.19335</td>\n",
              "      <td>...</td>\n",
              "      <td>0.0870142</td>\n",
              "      <td>0.229071</td>\n",
              "      <td>0.54056</td>\n",
              "      <td>1.14363</td>\n",
              "      <td>2.17189</td>\n",
              "      <td>3.7099</td>\n",
              "      <td>5.70838</td>\n",
              "      <td>7.91161</td>\n",
              "      <td>9.8587</td>\n",
              "      <td>11.0159</td>\n",
              "    </tr>\n",
              "    <tr>\n",
              "      <th>532</th>\n",
              "      <td>1.84799</td>\n",
              "      <td>1.67352</td>\n",
              "      <td>1.3722</td>\n",
              "      <td>1.01814</td>\n",
              "      <td>0.682674</td>\n",
              "      <td>0.412641</td>\n",
              "      <td>0.224025</td>\n",
              "      <td>0.108743</td>\n",
              "      <td>0.0469727</td>\n",
              "      <td>0.017992</td>\n",
              "      <td>...</td>\n",
              "      <td>0.008097</td>\n",
              "      <td>0.0213159</td>\n",
              "      <td>0.0503012</td>\n",
              "      <td>0.106419</td>\n",
              "      <td>0.202103</td>\n",
              "      <td>0.34522</td>\n",
              "      <td>0.531186</td>\n",
              "      <td>0.736205</td>\n",
              "      <td>0.917389</td>\n",
              "      <td>1.02507</td>\n",
              "    </tr>\n",
              "    <tr>\n",
              "      <th>121</th>\n",
              "      <td>10.8017</td>\n",
              "      <td>9.78184</td>\n",
              "      <td>8.02059</td>\n",
              "      <td>5.95108</td>\n",
              "      <td>3.99028</td>\n",
              "      <td>2.41191</td>\n",
              "      <td>1.30944</td>\n",
              "      <td>0.635613</td>\n",
              "      <td>0.274559</td>\n",
              "      <td>0.105164</td>\n",
              "      <td>...</td>\n",
              "      <td>0.0473275</td>\n",
              "      <td>0.124593</td>\n",
              "      <td>0.294014</td>\n",
              "      <td>0.622024</td>\n",
              "      <td>1.1813</td>\n",
              "      <td>2.01784</td>\n",
              "      <td>3.10482</td>\n",
              "      <td>4.30317</td>\n",
              "      <td>5.3622</td>\n",
              "      <td>5.99159</td>\n",
              "    </tr>\n",
              "    <tr>\n",
              "      <th>403</th>\n",
              "      <td>2.03019</td>\n",
              "      <td>1.83851</td>\n",
              "      <td>1.50748</td>\n",
              "      <td>1.11852</td>\n",
              "      <td>0.749979</td>\n",
              "      <td>0.453324</td>\n",
              "      <td>0.246112</td>\n",
              "      <td>0.119465</td>\n",
              "      <td>0.0516038</td>\n",
              "      <td>0.0197658</td>\n",
              "      <td>...</td>\n",
              "      <td>0.00889529</td>\n",
              "      <td>0.0234175</td>\n",
              "      <td>0.0552604</td>\n",
              "      <td>0.116911</td>\n",
              "      <td>0.222028</td>\n",
              "      <td>0.379256</td>\n",
              "      <td>0.583556</td>\n",
              "      <td>0.808788</td>\n",
              "      <td>1.00784</td>\n",
              "      <td>1.12613</td>\n",
              "    </tr>\n",
              "    <tr>\n",
              "      <th>927</th>\n",
              "      <td>5.57001</td>\n",
              "      <td>5.04413</td>\n",
              "      <td>4.13592</td>\n",
              "      <td>3.06875</td>\n",
              "      <td>2.05764</td>\n",
              "      <td>1.24373</td>\n",
              "      <td>0.675231</td>\n",
              "      <td>0.327762</td>\n",
              "      <td>0.14158</td>\n",
              "      <td>0.0542294</td>\n",
              "      <td>...</td>\n",
              "      <td>0.024405</td>\n",
              "      <td>0.064248</td>\n",
              "      <td>0.151612</td>\n",
              "      <td>0.320755</td>\n",
              "      <td>0.609154</td>\n",
              "      <td>1.04052</td>\n",
              "      <td>1.60104</td>\n",
              "      <td>2.21898</td>\n",
              "      <td>2.76509</td>\n",
              "      <td>3.08964</td>\n",
              "    </tr>\n",
              "    <tr>\n",
              "      <th>417</th>\n",
              "      <td>15.734</td>\n",
              "      <td>14.2485</td>\n",
              "      <td>11.683</td>\n",
              "      <td>8.6685</td>\n",
              "      <td>5.81234</td>\n",
              "      <td>3.51326</td>\n",
              "      <td>1.90737</td>\n",
              "      <td>0.925851</td>\n",
              "      <td>0.399929</td>\n",
              "      <td>0.153185</td>\n",
              "      <td>...</td>\n",
              "      <td>0.0689385</td>\n",
              "      <td>0.181486</td>\n",
              "      <td>0.428268</td>\n",
              "      <td>0.906057</td>\n",
              "      <td>1.72072</td>\n",
              "      <td>2.93923</td>\n",
              "      <td>4.52256</td>\n",
              "      <td>6.26811</td>\n",
              "      <td>7.81072</td>\n",
              "      <td>8.72751</td>\n",
              "    </tr>\n",
              "    <tr>\n",
              "      <th>920</th>\n",
              "      <td>64.6798</td>\n",
              "      <td>58.5732</td>\n",
              "      <td>48.0269</td>\n",
              "      <td>35.6348</td>\n",
              "      <td>23.8936</td>\n",
              "      <td>14.4424</td>\n",
              "      <td>7.84088</td>\n",
              "      <td>3.80602</td>\n",
              "      <td>1.64404</td>\n",
              "      <td>0.629719</td>\n",
              "      <td>...</td>\n",
              "      <td>0.283395</td>\n",
              "      <td>0.746058</td>\n",
              "      <td>1.76054</td>\n",
              "      <td>3.72465</td>\n",
              "      <td>7.07359</td>\n",
              "      <td>12.0827</td>\n",
              "      <td>18.5915</td>\n",
              "      <td>25.7672</td>\n",
              "      <td>32.1086</td>\n",
              "      <td>35.8773</td>\n",
              "    </tr>\n",
              "    <tr>\n",
              "      <th>422</th>\n",
              "      <td>0.221239</td>\n",
              "      <td>0.200351</td>\n",
              "      <td>0.164277</td>\n",
              "      <td>0.12189</td>\n",
              "      <td>0.0817285</td>\n",
              "      <td>0.0494006</td>\n",
              "      <td>0.0268199</td>\n",
              "      <td>0.0130186</td>\n",
              "      <td>0.00562349</td>\n",
              "      <td>0.00215397</td>\n",
              "      <td>...</td>\n",
              "      <td>0.000969359</td>\n",
              "      <td>0.00255191</td>\n",
              "      <td>0.00602197</td>\n",
              "      <td>0.0127403</td>\n",
              "      <td>0.0241954</td>\n",
              "      <td>0.0413292</td>\n",
              "      <td>0.0635927</td>\n",
              "      <td>0.0881372</td>\n",
              "      <td>0.109828</td>\n",
              "      <td>0.122719</td>\n",
              "    </tr>\n",
              "    <tr>\n",
              "      <th>1305</th>\n",
              "      <td>9.48724</td>\n",
              "      <td>8.59152</td>\n",
              "      <td>7.04459</td>\n",
              "      <td>5.22691</td>\n",
              "      <td>3.50471</td>\n",
              "      <td>2.11842</td>\n",
              "      <td>1.1501</td>\n",
              "      <td>0.558267</td>\n",
              "      <td>0.241148</td>\n",
              "      <td>0.0923673</td>\n",
              "      <td>...</td>\n",
              "      <td>0.0415684</td>\n",
              "      <td>0.109432</td>\n",
              "      <td>0.258236</td>\n",
              "      <td>0.546332</td>\n",
              "      <td>1.03755</td>\n",
              "      <td>1.77229</td>\n",
              "      <td>2.727</td>\n",
              "      <td>3.77953</td>\n",
              "      <td>4.70969</td>\n",
              "      <td>5.26249</td>\n",
              "    </tr>\n",
              "    <tr>\n",
              "      <th>822</th>\n",
              "      <td>44.0786</td>\n",
              "      <td>39.917</td>\n",
              "      <td>32.7298</td>\n",
              "      <td>24.2847</td>\n",
              "      <td>16.2832</td>\n",
              "      <td>9.84235</td>\n",
              "      <td>5.34348</td>\n",
              "      <td>2.59376</td>\n",
              "      <td>1.1204</td>\n",
              "      <td>0.429147</td>\n",
              "      <td>...</td>\n",
              "      <td>0.19313</td>\n",
              "      <td>0.50843</td>\n",
              "      <td>1.19979</td>\n",
              "      <td>2.53831</td>\n",
              "      <td>4.82057</td>\n",
              "      <td>8.23423</td>\n",
              "      <td>12.6699</td>\n",
              "      <td>17.56</td>\n",
              "      <td>21.8817</td>\n",
              "      <td>24.45</td>\n",
              "    </tr>\n",
              "    <tr>\n",
              "      <th>1306</th>\n",
              "      <td>16.0463</td>\n",
              "      <td>14.5313</td>\n",
              "      <td>11.9149</td>\n",
              "      <td>8.84058</td>\n",
              "      <td>5.92772</td>\n",
              "      <td>3.583</td>\n",
              "      <td>1.94523</td>\n",
              "      <td>0.94423</td>\n",
              "      <td>0.407868</td>\n",
              "      <td>0.156226</td>\n",
              "      <td>...</td>\n",
              "      <td>0.070307</td>\n",
              "      <td>0.185088</td>\n",
              "      <td>0.43677</td>\n",
              "      <td>0.924043</td>\n",
              "      <td>1.75488</td>\n",
              "      <td>2.99758</td>\n",
              "      <td>4.61234</td>\n",
              "      <td>6.39254</td>\n",
              "      <td>7.96578</td>\n",
              "      <td>8.90076</td>\n",
              "    </tr>\n",
              "    <tr>\n",
              "      <th>931</th>\n",
              "      <td>17.0094</td>\n",
              "      <td>15.4035</td>\n",
              "      <td>12.63</td>\n",
              "      <td>9.37116</td>\n",
              "      <td>6.28348</td>\n",
              "      <td>3.79804</td>\n",
              "      <td>2.06198</td>\n",
              "      <td>1.0009</td>\n",
              "      <td>0.432347</td>\n",
              "      <td>0.165602</td>\n",
              "      <td>...</td>\n",
              "      <td>0.0745266</td>\n",
              "      <td>0.196197</td>\n",
              "      <td>0.462983</td>\n",
              "      <td>0.979501</td>\n",
              "      <td>1.8602</td>\n",
              "      <td>3.17749</td>\n",
              "      <td>4.88915</td>\n",
              "      <td>6.7762</td>\n",
              "      <td>8.44385</td>\n",
              "      <td>9.43495</td>\n",
              "    </tr>\n",
              "    <tr>\n",
              "      <th>818</th>\n",
              "      <td>70.3539</td>\n",
              "      <td>63.7116</td>\n",
              "      <td>52.2401</td>\n",
              "      <td>38.7609</td>\n",
              "      <td>25.9897</td>\n",
              "      <td>15.7094</td>\n",
              "      <td>8.52874</td>\n",
              "      <td>4.13991</td>\n",
              "      <td>1.78827</td>\n",
              "      <td>0.684962</td>\n",
              "      <td>...</td>\n",
              "      <td>0.308256</td>\n",
              "      <td>0.811507</td>\n",
              "      <td>1.91499</td>\n",
              "      <td>4.0514</td>\n",
              "      <td>7.69413</td>\n",
              "      <td>13.1427</td>\n",
              "      <td>20.2225</td>\n",
              "      <td>28.0276</td>\n",
              "      <td>34.9254</td>\n",
              "      <td>39.0247</td>\n",
              "    </tr>\n",
              "    <tr>\n",
              "      <th>928</th>\n",
              "      <td>17.1265</td>\n",
              "      <td>15.5095</td>\n",
              "      <td>12.717</td>\n",
              "      <td>9.43569</td>\n",
              "      <td>6.32675</td>\n",
              "      <td>3.82419</td>\n",
              "      <td>2.07618</td>\n",
              "      <td>1.00779</td>\n",
              "      <td>0.435324</td>\n",
              "      <td>0.166743</td>\n",
              "      <td>...</td>\n",
              "      <td>0.0750398</td>\n",
              "      <td>0.197548</td>\n",
              "      <td>0.466171</td>\n",
              "      <td>0.986246</td>\n",
              "      <td>1.87301</td>\n",
              "      <td>3.19937</td>\n",
              "      <td>4.92282</td>\n",
              "      <td>6.82286</td>\n",
              "      <td>8.502</td>\n",
              "      <td>9.49992</td>\n",
              "    </tr>\n",
              "    <tr>\n",
              "      <th>411</th>\n",
              "      <td>30.7522</td>\n",
              "      <td>27.8488</td>\n",
              "      <td>22.8345</td>\n",
              "      <td>16.9427</td>\n",
              "      <td>11.3603</td>\n",
              "      <td>6.86669</td>\n",
              "      <td>3.72797</td>\n",
              "      <td>1.80958</td>\n",
              "      <td>0.781665</td>\n",
              "      <td>0.299402</td>\n",
              "      <td>...</td>\n",
              "      <td>0.134741</td>\n",
              "      <td>0.354715</td>\n",
              "      <td>0.837054</td>\n",
              "      <td>1.7709</td>\n",
              "      <td>3.36316</td>\n",
              "      <td>5.74476</td>\n",
              "      <td>8.83938</td>\n",
              "      <td>12.2511</td>\n",
              "      <td>15.2661</td>\n",
              "      <td>17.058</td>\n",
              "    </tr>\n",
              "    <tr>\n",
              "      <th>1314</th>\n",
              "      <td>8.69338</td>\n",
              "      <td>7.87261</td>\n",
              "      <td>6.45513</td>\n",
              "      <td>4.78954</td>\n",
              "      <td>3.21145</td>\n",
              "      <td>1.94115</td>\n",
              "      <td>1.05387</td>\n",
              "      <td>0.511554</td>\n",
              "      <td>0.22097</td>\n",
              "      <td>0.0846384</td>\n",
              "      <td>...</td>\n",
              "      <td>0.0380901</td>\n",
              "      <td>0.100275</td>\n",
              "      <td>0.236628</td>\n",
              "      <td>0.500617</td>\n",
              "      <td>0.950736</td>\n",
              "      <td>1.62399</td>\n",
              "      <td>2.49882</td>\n",
              "      <td>3.46327</td>\n",
              "      <td>4.3156</td>\n",
              "      <td>4.82215</td>\n",
              "    </tr>\n",
              "    <tr>\n",
              "      <th>1022</th>\n",
              "      <td>1.47059</td>\n",
              "      <td>1.33174</td>\n",
              "      <td>1.09196</td>\n",
              "      <td>0.810207</td>\n",
              "      <td>0.543254</td>\n",
              "      <td>0.328369</td>\n",
              "      <td>0.178274</td>\n",
              "      <td>0.0865353</td>\n",
              "      <td>0.0373797</td>\n",
              "      <td>0.0143176</td>\n",
              "      <td>...</td>\n",
              "      <td>0.00644338</td>\n",
              "      <td>0.0169627</td>\n",
              "      <td>0.0400284</td>\n",
              "      <td>0.0846852</td>\n",
              "      <td>0.160828</td>\n",
              "      <td>0.274718</td>\n",
              "      <td>0.422704</td>\n",
              "      <td>0.585853</td>\n",
              "      <td>0.730035</td>\n",
              "      <td>0.815722</td>\n",
              "    </tr>\n",
              "    <tr>\n",
              "      <th>...</th>\n",
              "      <td>...</td>\n",
              "      <td>...</td>\n",
              "      <td>...</td>\n",
              "      <td>...</td>\n",
              "      <td>...</td>\n",
              "      <td>...</td>\n",
              "      <td>...</td>\n",
              "      <td>...</td>\n",
              "      <td>...</td>\n",
              "      <td>...</td>\n",
              "      <td>...</td>\n",
              "      <td>...</td>\n",
              "      <td>...</td>\n",
              "      <td>...</td>\n",
              "      <td>...</td>\n",
              "      <td>...</td>\n",
              "      <td>...</td>\n",
              "      <td>...</td>\n",
              "      <td>...</td>\n",
              "      <td>...</td>\n",
              "      <td>...</td>\n",
              "    </tr>\n",
              "    <tr>\n",
              "      <th>420</th>\n",
              "      <td>3.2405</td>\n",
              "      <td>2.93455</td>\n",
              "      <td>2.40618</td>\n",
              "      <td>1.78532</td>\n",
              "      <td>1.19708</td>\n",
              "      <td>0.723574</td>\n",
              "      <td>0.392833</td>\n",
              "      <td>0.190684</td>\n",
              "      <td>0.0823676</td>\n",
              "      <td>0.0315493</td>\n",
              "      <td>...</td>\n",
              "      <td>0.0141983</td>\n",
              "      <td>0.0373779</td>\n",
              "      <td>0.0882041</td>\n",
              "      <td>0.186607</td>\n",
              "      <td>0.354391</td>\n",
              "      <td>0.605351</td>\n",
              "      <td>0.931446</td>\n",
              "      <td>1.29095</td>\n",
              "      <td>1.60866</td>\n",
              "      <td>1.79748</td>\n",
              "    </tr>\n",
              "    <tr>\n",
              "      <th>1113</th>\n",
              "      <td>0.234253</td>\n",
              "      <td>0.212136</td>\n",
              "      <td>0.173941</td>\n",
              "      <td>0.12906</td>\n",
              "      <td>0.0865361</td>\n",
              "      <td>0.0523066</td>\n",
              "      <td>0.0283976</td>\n",
              "      <td>0.0137844</td>\n",
              "      <td>0.00595428</td>\n",
              "      <td>0.00228067</td>\n",
              "      <td>...</td>\n",
              "      <td>0.00102638</td>\n",
              "      <td>0.00270202</td>\n",
              "      <td>0.0063762</td>\n",
              "      <td>0.0134897</td>\n",
              "      <td>0.0256186</td>\n",
              "      <td>0.0437603</td>\n",
              "      <td>0.0673334</td>\n",
              "      <td>0.0933217</td>\n",
              "      <td>0.116289</td>\n",
              "      <td>0.129938</td>\n",
              "    </tr>\n",
              "    <tr>\n",
              "      <th>803</th>\n",
              "      <td>0.416449</td>\n",
              "      <td>0.377131</td>\n",
              "      <td>0.309228</td>\n",
              "      <td>0.229439</td>\n",
              "      <td>0.153842</td>\n",
              "      <td>0.0929895</td>\n",
              "      <td>0.0504846</td>\n",
              "      <td>0.0245056</td>\n",
              "      <td>0.0105854</td>\n",
              "      <td>0.00405453</td>\n",
              "      <td>...</td>\n",
              "      <td>0.00182468</td>\n",
              "      <td>0.00480359</td>\n",
              "      <td>0.0113355</td>\n",
              "      <td>0.0239817</td>\n",
              "      <td>0.0455442</td>\n",
              "      <td>0.0777961</td>\n",
              "      <td>0.119704</td>\n",
              "      <td>0.165905</td>\n",
              "      <td>0.206735</td>\n",
              "      <td>0.231001</td>\n",
              "    </tr>\n",
              "    <tr>\n",
              "      <th>913</th>\n",
              "      <td>3.50078</td>\n",
              "      <td>3.17026</td>\n",
              "      <td>2.59944</td>\n",
              "      <td>1.92872</td>\n",
              "      <td>1.29323</td>\n",
              "      <td>0.781693</td>\n",
              "      <td>0.424386</td>\n",
              "      <td>0.206</td>\n",
              "      <td>0.0889834</td>\n",
              "      <td>0.0340834</td>\n",
              "      <td>...</td>\n",
              "      <td>0.0153387</td>\n",
              "      <td>0.0403802</td>\n",
              "      <td>0.0952888</td>\n",
              "      <td>0.201596</td>\n",
              "      <td>0.382856</td>\n",
              "      <td>0.653974</td>\n",
              "      <td>1.00626</td>\n",
              "      <td>1.39464</td>\n",
              "      <td>1.73787</td>\n",
              "      <td>1.94185</td>\n",
              "    </tr>\n",
              "    <tr>\n",
              "      <th>1319</th>\n",
              "      <td>0.767829</td>\n",
              "      <td>0.695336</td>\n",
              "      <td>0.570138</td>\n",
              "      <td>0.423029</td>\n",
              "      <td>0.283646</td>\n",
              "      <td>0.171449</td>\n",
              "      <td>0.0930809</td>\n",
              "      <td>0.0451821</td>\n",
              "      <td>0.0195168</td>\n",
              "      <td>0.00747554</td>\n",
              "      <td>...</td>\n",
              "      <td>0.00336424</td>\n",
              "      <td>0.00885662</td>\n",
              "      <td>0.0208998</td>\n",
              "      <td>0.0442162</td>\n",
              "      <td>0.0839722</td>\n",
              "      <td>0.143437</td>\n",
              "      <td>0.220704</td>\n",
              "      <td>0.305888</td>\n",
              "      <td>0.381168</td>\n",
              "      <td>0.425908</td>\n",
              "    </tr>\n",
              "    <tr>\n",
              "      <th>1019</th>\n",
              "      <td>1.88704</td>\n",
              "      <td>1.70888</td>\n",
              "      <td>1.40119</td>\n",
              "      <td>1.03965</td>\n",
              "      <td>0.697096</td>\n",
              "      <td>0.421358</td>\n",
              "      <td>0.228758</td>\n",
              "      <td>0.111041</td>\n",
              "      <td>0.047965</td>\n",
              "      <td>0.0183721</td>\n",
              "      <td>...</td>\n",
              "      <td>0.00826806</td>\n",
              "      <td>0.0217663</td>\n",
              "      <td>0.0513639</td>\n",
              "      <td>0.108667</td>\n",
              "      <td>0.206372</td>\n",
              "      <td>0.352514</td>\n",
              "      <td>0.542408</td>\n",
              "      <td>0.751758</td>\n",
              "      <td>0.93677</td>\n",
              "      <td>1.04672</td>\n",
              "    </tr>\n",
              "    <tr>\n",
              "      <th>616</th>\n",
              "      <td>2.65486</td>\n",
              "      <td>2.40421</td>\n",
              "      <td>1.97133</td>\n",
              "      <td>1.46267</td>\n",
              "      <td>0.980742</td>\n",
              "      <td>0.592808</td>\n",
              "      <td>0.321839</td>\n",
              "      <td>0.156223</td>\n",
              "      <td>0.0674819</td>\n",
              "      <td>0.0258476</td>\n",
              "      <td>...</td>\n",
              "      <td>0.0116323</td>\n",
              "      <td>0.0306229</td>\n",
              "      <td>0.0722636</td>\n",
              "      <td>0.152883</td>\n",
              "      <td>0.290345</td>\n",
              "      <td>0.49595</td>\n",
              "      <td>0.763112</td>\n",
              "      <td>1.05765</td>\n",
              "      <td>1.31794</td>\n",
              "      <td>1.47263</td>\n",
              "    </tr>\n",
              "    <tr>\n",
              "      <th>827</th>\n",
              "      <td>6.22071</td>\n",
              "      <td>5.6334</td>\n",
              "      <td>4.61909</td>\n",
              "      <td>3.42725</td>\n",
              "      <td>2.29801</td>\n",
              "      <td>1.38903</td>\n",
              "      <td>0.754113</td>\n",
              "      <td>0.366052</td>\n",
              "      <td>0.158119</td>\n",
              "      <td>0.0605646</td>\n",
              "      <td>...</td>\n",
              "      <td>0.0272561</td>\n",
              "      <td>0.0717536</td>\n",
              "      <td>0.169324</td>\n",
              "      <td>0.358226</td>\n",
              "      <td>0.680317</td>\n",
              "      <td>1.16208</td>\n",
              "      <td>1.78808</td>\n",
              "      <td>2.47821</td>\n",
              "      <td>3.08811</td>\n",
              "      <td>3.45058</td>\n",
              "    </tr>\n",
              "    <tr>\n",
              "      <th>516</th>\n",
              "      <td>1.14524</td>\n",
              "      <td>1.03711</td>\n",
              "      <td>0.850376</td>\n",
              "      <td>0.630958</td>\n",
              "      <td>0.423065</td>\n",
              "      <td>0.255721</td>\n",
              "      <td>0.138833</td>\n",
              "      <td>0.0673903</td>\n",
              "      <td>0.0291098</td>\n",
              "      <td>0.01115</td>\n",
              "      <td>...</td>\n",
              "      <td>0.00501786</td>\n",
              "      <td>0.0132099</td>\n",
              "      <td>0.0311725</td>\n",
              "      <td>0.0659496</td>\n",
              "      <td>0.125247</td>\n",
              "      <td>0.213939</td>\n",
              "      <td>0.329186</td>\n",
              "      <td>0.45624</td>\n",
              "      <td>0.568523</td>\n",
              "      <td>0.635253</td>\n",
              "    </tr>\n",
              "    <tr>\n",
              "      <th>1316</th>\n",
              "      <td>0.48152</td>\n",
              "      <td>0.436058</td>\n",
              "      <td>0.357544</td>\n",
              "      <td>0.265289</td>\n",
              "      <td>0.17788</td>\n",
              "      <td>0.107519</td>\n",
              "      <td>0.0583728</td>\n",
              "      <td>0.0283346</td>\n",
              "      <td>0.0122394</td>\n",
              "      <td>0.00468805</td>\n",
              "      <td>...</td>\n",
              "      <td>0.00210978</td>\n",
              "      <td>0.00555415</td>\n",
              "      <td>0.0131066</td>\n",
              "      <td>0.0277288</td>\n",
              "      <td>0.0526605</td>\n",
              "      <td>0.0899518</td>\n",
              "      <td>0.138408</td>\n",
              "      <td>0.191828</td>\n",
              "      <td>0.239038</td>\n",
              "      <td>0.267095</td>\n",
              "    </tr>\n",
              "    <tr>\n",
              "      <th>1035</th>\n",
              "      <td>0.0520562</td>\n",
              "      <td>0.0471414</td>\n",
              "      <td>0.0386534</td>\n",
              "      <td>0.0286799</td>\n",
              "      <td>0.0192302</td>\n",
              "      <td>0.0116237</td>\n",
              "      <td>0.00631057</td>\n",
              "      <td>0.0030632</td>\n",
              "      <td>0.00132317</td>\n",
              "      <td>0.000506816</td>\n",
              "      <td>...</td>\n",
              "      <td>0.000228084</td>\n",
              "      <td>0.000600449</td>\n",
              "      <td>0.00141693</td>\n",
              "      <td>0.00299771</td>\n",
              "      <td>0.00569303</td>\n",
              "      <td>0.00972452</td>\n",
              "      <td>0.014963</td>\n",
              "      <td>0.0207382</td>\n",
              "      <td>0.0258419</td>\n",
              "      <td>0.0288751</td>\n",
              "    </tr>\n",
              "    <tr>\n",
              "      <th>933</th>\n",
              "      <td>0.143154</td>\n",
              "      <td>0.129639</td>\n",
              "      <td>0.106297</td>\n",
              "      <td>0.0788697</td>\n",
              "      <td>0.0528832</td>\n",
              "      <td>0.0319651</td>\n",
              "      <td>0.0173541</td>\n",
              "      <td>0.00842379</td>\n",
              "      <td>0.00363873</td>\n",
              "      <td>0.00139375</td>\n",
              "      <td>...</td>\n",
              "      <td>0.000627232</td>\n",
              "      <td>0.00165123</td>\n",
              "      <td>0.00389657</td>\n",
              "      <td>0.0082437</td>\n",
              "      <td>0.0156558</td>\n",
              "      <td>0.0267424</td>\n",
              "      <td>0.0411482</td>\n",
              "      <td>0.05703</td>\n",
              "      <td>0.0710653</td>\n",
              "      <td>0.0794066</td>\n",
              "    </tr>\n",
              "    <tr>\n",
              "      <th>1021</th>\n",
              "      <td>2.35554</td>\n",
              "      <td>2.13315</td>\n",
              "      <td>1.74907</td>\n",
              "      <td>1.29777</td>\n",
              "      <td>0.870168</td>\n",
              "      <td>0.525972</td>\n",
              "      <td>0.285553</td>\n",
              "      <td>0.13861</td>\n",
              "      <td>0.0598736</td>\n",
              "      <td>0.0229334</td>\n",
              "      <td>...</td>\n",
              "      <td>0.0103208</td>\n",
              "      <td>0.0271703</td>\n",
              "      <td>0.0641163</td>\n",
              "      <td>0.135646</td>\n",
              "      <td>0.25761</td>\n",
              "      <td>0.440034</td>\n",
              "      <td>0.677075</td>\n",
              "      <td>0.938402</td>\n",
              "      <td>1.16935</td>\n",
              "      <td>1.3066</td>\n",
              "    </tr>\n",
              "    <tr>\n",
              "      <th>603</th>\n",
              "      <td>4.95835</td>\n",
              "      <td>4.49022</td>\n",
              "      <td>3.68174</td>\n",
              "      <td>2.73176</td>\n",
              "      <td>1.83168</td>\n",
              "      <td>1.10716</td>\n",
              "      <td>0.601082</td>\n",
              "      <td>0.291769</td>\n",
              "      <td>0.126032</td>\n",
              "      <td>0.0482743</td>\n",
              "      <td>...</td>\n",
              "      <td>0.021725</td>\n",
              "      <td>0.0571928</td>\n",
              "      <td>0.134963</td>\n",
              "      <td>0.285532</td>\n",
              "      <td>0.542261</td>\n",
              "      <td>0.92626</td>\n",
              "      <td>1.42522</td>\n",
              "      <td>1.97531</td>\n",
              "      <td>2.46144</td>\n",
              "      <td>2.75036</td>\n",
              "    </tr>\n",
              "    <tr>\n",
              "      <th>526</th>\n",
              "      <td>0.7418</td>\n",
              "      <td>0.671765</td>\n",
              "      <td>0.550812</td>\n",
              "      <td>0.408689</td>\n",
              "      <td>0.274031</td>\n",
              "      <td>0.165637</td>\n",
              "      <td>0.0899256</td>\n",
              "      <td>0.0436505</td>\n",
              "      <td>0.0188552</td>\n",
              "      <td>0.00722213</td>\n",
              "      <td>...</td>\n",
              "      <td>0.0032502</td>\n",
              "      <td>0.0085564</td>\n",
              "      <td>0.0201913</td>\n",
              "      <td>0.0427173</td>\n",
              "      <td>0.0811257</td>\n",
              "      <td>0.138574</td>\n",
              "      <td>0.213222</td>\n",
              "      <td>0.295519</td>\n",
              "      <td>0.368248</td>\n",
              "      <td>0.411471</td>\n",
              "    </tr>\n",
              "    <tr>\n",
              "      <th>613</th>\n",
              "      <td>0.247267</td>\n",
              "      <td>0.223922</td>\n",
              "      <td>0.183604</td>\n",
              "      <td>0.13623</td>\n",
              "      <td>0.0913436</td>\n",
              "      <td>0.0552125</td>\n",
              "      <td>0.0299752</td>\n",
              "      <td>0.0145502</td>\n",
              "      <td>0.00628507</td>\n",
              "      <td>0.00240738</td>\n",
              "      <td>...</td>\n",
              "      <td>0.0010834</td>\n",
              "      <td>0.00285213</td>\n",
              "      <td>0.00673044</td>\n",
              "      <td>0.0142391</td>\n",
              "      <td>0.0270419</td>\n",
              "      <td>0.0461914</td>\n",
              "      <td>0.0710742</td>\n",
              "      <td>0.0985063</td>\n",
              "      <td>0.122749</td>\n",
              "      <td>0.137157</td>\n",
              "    </tr>\n",
              "    <tr>\n",
              "      <th>123</th>\n",
              "      <td>0.0650702</td>\n",
              "      <td>0.0589268</td>\n",
              "      <td>0.0483168</td>\n",
              "      <td>0.0358499</td>\n",
              "      <td>0.0240378</td>\n",
              "      <td>0.0145296</td>\n",
              "      <td>0.00788821</td>\n",
              "      <td>0.00382899</td>\n",
              "      <td>0.00165397</td>\n",
              "      <td>0.000633521</td>\n",
              "      <td>...</td>\n",
              "      <td>0.000285105</td>\n",
              "      <td>0.000750561</td>\n",
              "      <td>0.00177117</td>\n",
              "      <td>0.00374713</td>\n",
              "      <td>0.00711629</td>\n",
              "      <td>0.0121556</td>\n",
              "      <td>0.0187037</td>\n",
              "      <td>0.0259227</td>\n",
              "      <td>0.0323024</td>\n",
              "      <td>0.0360939</td>\n",
              "    </tr>\n",
              "    <tr>\n",
              "      <th>527</th>\n",
              "      <td>0.442477</td>\n",
              "      <td>0.400702</td>\n",
              "      <td>0.328554</td>\n",
              "      <td>0.243779</td>\n",
              "      <td>0.163457</td>\n",
              "      <td>0.0988013</td>\n",
              "      <td>0.0536399</td>\n",
              "      <td>0.0260372</td>\n",
              "      <td>0.011247</td>\n",
              "      <td>0.00430794</td>\n",
              "      <td>...</td>\n",
              "      <td>0.00193872</td>\n",
              "      <td>0.00510382</td>\n",
              "      <td>0.0120439</td>\n",
              "      <td>0.0254805</td>\n",
              "      <td>0.0483908</td>\n",
              "      <td>0.0826584</td>\n",
              "      <td>0.127185</td>\n",
              "      <td>0.176274</td>\n",
              "      <td>0.219656</td>\n",
              "      <td>0.245439</td>\n",
              "    </tr>\n",
              "    <tr>\n",
              "      <th>935</th>\n",
              "      <td>0.0520562</td>\n",
              "      <td>0.0471414</td>\n",
              "      <td>0.0386534</td>\n",
              "      <td>0.0286799</td>\n",
              "      <td>0.0192302</td>\n",
              "      <td>0.0116237</td>\n",
              "      <td>0.00631057</td>\n",
              "      <td>0.0030632</td>\n",
              "      <td>0.00132317</td>\n",
              "      <td>0.000506816</td>\n",
              "      <td>...</td>\n",
              "      <td>0.000228084</td>\n",
              "      <td>0.000600449</td>\n",
              "      <td>0.00141693</td>\n",
              "      <td>0.00299771</td>\n",
              "      <td>0.00569303</td>\n",
              "      <td>0.00972452</td>\n",
              "      <td>0.014963</td>\n",
              "      <td>0.0207382</td>\n",
              "      <td>0.0258419</td>\n",
              "      <td>0.0288751</td>\n",
              "    </tr>\n",
              "    <tr>\n",
              "      <th>102</th>\n",
              "      <td>0.311893</td>\n",
              "      <td>0.282533</td>\n",
              "      <td>0.231806</td>\n",
              "      <td>0.172156</td>\n",
              "      <td>0.115579</td>\n",
              "      <td>0.0699741</td>\n",
              "      <td>0.0380644</td>\n",
              "      <td>0.0185204</td>\n",
              "      <td>0.0080222</td>\n",
              "      <td>0.00308262</td>\n",
              "      <td>...</td>\n",
              "      <td>0.00136851</td>\n",
              "      <td>0.00360269</td>\n",
              "      <td>0.0085016</td>\n",
              "      <td>0.0179862</td>\n",
              "      <td>0.0341582</td>\n",
              "      <td>0.0583471</td>\n",
              "      <td>0.0897779</td>\n",
              "      <td>0.124429</td>\n",
              "      <td>0.155052</td>\n",
              "      <td>0.173251</td>\n",
              "    </tr>\n",
              "    <tr>\n",
              "      <th>614</th>\n",
              "      <td>1.6658</td>\n",
              "      <td>1.50852</td>\n",
              "      <td>1.23691</td>\n",
              "      <td>0.917757</td>\n",
              "      <td>0.615368</td>\n",
              "      <td>0.371958</td>\n",
              "      <td>0.201938</td>\n",
              "      <td>0.0980223</td>\n",
              "      <td>0.0423416</td>\n",
              "      <td>0.0162181</td>\n",
              "      <td>...</td>\n",
              "      <td>0.0072987</td>\n",
              "      <td>0.0192144</td>\n",
              "      <td>0.0453419</td>\n",
              "      <td>0.0959266</td>\n",
              "      <td>0.182177</td>\n",
              "      <td>0.311184</td>\n",
              "      <td>0.478815</td>\n",
              "      <td>0.663621</td>\n",
              "      <td>0.826942</td>\n",
              "      <td>0.924004</td>\n",
              "    </tr>\n",
              "    <tr>\n",
              "      <th>829</th>\n",
              "      <td>0.182197</td>\n",
              "      <td>0.164995</td>\n",
              "      <td>0.135287</td>\n",
              "      <td>0.10038</td>\n",
              "      <td>0.0673058</td>\n",
              "      <td>0.0406829</td>\n",
              "      <td>0.022087</td>\n",
              "      <td>0.0107212</td>\n",
              "      <td>0.00463111</td>\n",
              "      <td>0.00177386</td>\n",
              "      <td>...</td>\n",
              "      <td>0.000798295</td>\n",
              "      <td>0.00210157</td>\n",
              "      <td>0.00495927</td>\n",
              "      <td>0.010492</td>\n",
              "      <td>0.0199256</td>\n",
              "      <td>0.0340358</td>\n",
              "      <td>0.0523704</td>\n",
              "      <td>0.0725836</td>\n",
              "      <td>0.0904468</td>\n",
              "      <td>0.101063</td>\n",
              "    </tr>\n",
              "    <tr>\n",
              "      <th>1028</th>\n",
              "      <td>0.117126</td>\n",
              "      <td>0.106068</td>\n",
              "      <td>0.0869703</td>\n",
              "      <td>0.0645298</td>\n",
              "      <td>0.043268</td>\n",
              "      <td>0.0261533</td>\n",
              "      <td>0.0141988</td>\n",
              "      <td>0.00689219</td>\n",
              "      <td>0.00297714</td>\n",
              "      <td>0.00114034</td>\n",
              "      <td>...</td>\n",
              "      <td>0.00051319</td>\n",
              "      <td>0.00135101</td>\n",
              "      <td>0.0031881</td>\n",
              "      <td>0.00674484</td>\n",
              "      <td>0.0128093</td>\n",
              "      <td>0.0218802</td>\n",
              "      <td>0.0336667</td>\n",
              "      <td>0.0466609</td>\n",
              "      <td>0.0581443</td>\n",
              "      <td>0.064969</td>\n",
              "    </tr>\n",
              "    <tr>\n",
              "      <th>518</th>\n",
              "      <td>1.15825</td>\n",
              "      <td>1.0489</td>\n",
              "      <td>0.860039</td>\n",
              "      <td>0.638128</td>\n",
              "      <td>0.427873</td>\n",
              "      <td>0.258627</td>\n",
              "      <td>0.14041</td>\n",
              "      <td>0.0681561</td>\n",
              "      <td>0.0294406</td>\n",
              "      <td>0.0112767</td>\n",
              "      <td>...</td>\n",
              "      <td>0.00507488</td>\n",
              "      <td>0.01336</td>\n",
              "      <td>0.0315268</td>\n",
              "      <td>0.066699</td>\n",
              "      <td>0.12667</td>\n",
              "      <td>0.21637</td>\n",
              "      <td>0.332926</td>\n",
              "      <td>0.461424</td>\n",
              "      <td>0.574983</td>\n",
              "      <td>0.642472</td>\n",
              "    </tr>\n",
              "    <tr>\n",
              "      <th>808</th>\n",
              "      <td>0.0520562</td>\n",
              "      <td>0.0471414</td>\n",
              "      <td>0.0386534</td>\n",
              "      <td>0.0286799</td>\n",
              "      <td>0.0192302</td>\n",
              "      <td>0.0116237</td>\n",
              "      <td>0.00631057</td>\n",
              "      <td>0.0030632</td>\n",
              "      <td>0.00132317</td>\n",
              "      <td>0.000506816</td>\n",
              "      <td>...</td>\n",
              "      <td>0.000228084</td>\n",
              "      <td>0.000600449</td>\n",
              "      <td>0.00141693</td>\n",
              "      <td>0.00299771</td>\n",
              "      <td>0.00569303</td>\n",
              "      <td>0.00972452</td>\n",
              "      <td>0.014963</td>\n",
              "      <td>0.0207382</td>\n",
              "      <td>0.0258419</td>\n",
              "      <td>0.0288751</td>\n",
              "    </tr>\n",
              "    <tr>\n",
              "      <th>510</th>\n",
              "      <td>0.0650702</td>\n",
              "      <td>0.0589268</td>\n",
              "      <td>0.0483168</td>\n",
              "      <td>0.0358499</td>\n",
              "      <td>0.0240378</td>\n",
              "      <td>0.0145296</td>\n",
              "      <td>0.00788821</td>\n",
              "      <td>0.00382899</td>\n",
              "      <td>0.00165397</td>\n",
              "      <td>0.000633521</td>\n",
              "      <td>...</td>\n",
              "      <td>0.000285105</td>\n",
              "      <td>0.000750561</td>\n",
              "      <td>0.00177117</td>\n",
              "      <td>0.00374713</td>\n",
              "      <td>0.00711629</td>\n",
              "      <td>0.0121556</td>\n",
              "      <td>0.0187037</td>\n",
              "      <td>0.0259227</td>\n",
              "      <td>0.0323024</td>\n",
              "      <td>0.0360939</td>\n",
              "    </tr>\n",
              "    <tr>\n",
              "      <th>826</th>\n",
              "      <td>0.0390421</td>\n",
              "      <td>0.0353561</td>\n",
              "      <td>0.0289901</td>\n",
              "      <td>0.0215099</td>\n",
              "      <td>0.0144227</td>\n",
              "      <td>0.00871776</td>\n",
              "      <td>0.00473293</td>\n",
              "      <td>0.0022974</td>\n",
              "      <td>0.00099238</td>\n",
              "      <td>0.000380112</td>\n",
              "      <td>...</td>\n",
              "      <td>0.000171063</td>\n",
              "      <td>0.000450337</td>\n",
              "      <td>0.0010627</td>\n",
              "      <td>0.00224828</td>\n",
              "      <td>0.00426977</td>\n",
              "      <td>0.00729339</td>\n",
              "      <td>0.0112222</td>\n",
              "      <td>0.0155536</td>\n",
              "      <td>0.0193814</td>\n",
              "      <td>0.0216563</td>\n",
              "    </tr>\n",
              "    <tr>\n",
              "      <th>129</th>\n",
              "      <td>0.104112</td>\n",
              "      <td>0.0942828</td>\n",
              "      <td>0.0773069</td>\n",
              "      <td>0.0573598</td>\n",
              "      <td>0.0384605</td>\n",
              "      <td>0.0232474</td>\n",
              "      <td>0.0126211</td>\n",
              "      <td>0.00612639</td>\n",
              "      <td>0.00264635</td>\n",
              "      <td>0.00101363</td>\n",
              "      <td>...</td>\n",
              "      <td>0.000456169</td>\n",
              "      <td>0.0012009</td>\n",
              "      <td>0.00283387</td>\n",
              "      <td>0.00599542</td>\n",
              "      <td>0.0113861</td>\n",
              "      <td>0.019449</td>\n",
              "      <td>0.029926</td>\n",
              "      <td>0.0414763</td>\n",
              "      <td>0.0516839</td>\n",
              "      <td>0.0577503</td>\n",
              "    </tr>\n",
              "    <tr>\n",
              "      <th>1039</th>\n",
              "      <td>0.442477</td>\n",
              "      <td>0.400702</td>\n",
              "      <td>0.328554</td>\n",
              "      <td>0.243779</td>\n",
              "      <td>0.163457</td>\n",
              "      <td>0.0988013</td>\n",
              "      <td>0.0536399</td>\n",
              "      <td>0.0260372</td>\n",
              "      <td>0.011247</td>\n",
              "      <td>0.00430794</td>\n",
              "      <td>...</td>\n",
              "      <td>0.00193872</td>\n",
              "      <td>0.00510382</td>\n",
              "      <td>0.0120439</td>\n",
              "      <td>0.0254805</td>\n",
              "      <td>0.0483908</td>\n",
              "      <td>0.0826584</td>\n",
              "      <td>0.127185</td>\n",
              "      <td>0.176274</td>\n",
              "      <td>0.219656</td>\n",
              "      <td>0.245439</td>\n",
              "    </tr>\n",
              "    <tr>\n",
              "      <th>1118</th>\n",
              "      <td>0.0260281</td>\n",
              "      <td>0.0235707</td>\n",
              "      <td>0.0193267</td>\n",
              "      <td>0.0143399</td>\n",
              "      <td>0.00961512</td>\n",
              "      <td>0.00581184</td>\n",
              "      <td>0.00315529</td>\n",
              "      <td>0.0015316</td>\n",
              "      <td>0.000661587</td>\n",
              "      <td>0.000253408</td>\n",
              "      <td>...</td>\n",
              "      <td>0.000114042</td>\n",
              "      <td>0.000300224</td>\n",
              "      <td>0.000708467</td>\n",
              "      <td>0.00149885</td>\n",
              "      <td>0.00284652</td>\n",
              "      <td>0.00486226</td>\n",
              "      <td>0.00748149</td>\n",
              "      <td>0.0103691</td>\n",
              "      <td>0.012921</td>\n",
              "      <td>0.0144376</td>\n",
              "    </tr>\n",
              "  </tbody>\n",
              "</table>\n",
              "<p>136 rows × 64 columns</p>\n",
              "</div>"
            ],
            "text/plain": [
              "Location on Track (m)      0.209      0.228      0.247      0.266       0.284  \\\n",
              "Cell ID                                                                         \n",
              "609                      111.817     101.26    83.0276    61.6044     41.3066   \n",
              "529                    0.0910983  0.0824975  0.0676435  0.0501898   0.0336529   \n",
              "1209                     126.848    114.872    94.1888    69.8857     46.8593   \n",
              "416                      5.43987    4.92628    4.03929    2.99705     2.00956   \n",
              "828                      18.2847    16.5584     13.577    10.0738     6.75462   \n",
              "119                      102.199    92.5504    75.8864    56.3058     37.7538   \n",
              "410                      36.4133    32.9754    27.0381    20.0616     13.4516   \n",
              "537                       111.01    100.529    82.4285    61.1599     41.0085   \n",
              "615                      13.9511    12.6339    10.3591    7.68621      5.1537   \n",
              "819                      9.85163    8.92151    7.31517    5.42767     3.63932   \n",
              "305                      15.2264    13.7889    11.3061    8.38887     5.62485   \n",
              "930                      43.2847    39.1981    32.1403    23.8473     15.9899   \n",
              "103                       73.868    66.9244    54.9249    40.8096     27.4147   \n",
              "1303                     19.8594    17.9844    14.7463    10.9414     7.33634   \n",
              "532                      1.84799    1.67352     1.3722    1.01814    0.682674   \n",
              "121                      10.8017    9.78184    8.02059    5.95108     3.99028   \n",
              "403                      2.03019    1.83851    1.50748    1.11852    0.749979   \n",
              "927                      5.57001    5.04413    4.13592    3.06875     2.05764   \n",
              "417                       15.734    14.2485     11.683     8.6685     5.81234   \n",
              "920                      64.6798    58.5732    48.0269    35.6348     23.8936   \n",
              "422                     0.221239   0.200351   0.164277    0.12189   0.0817285   \n",
              "1305                     9.48724    8.59152    7.04459    5.22691     3.50471   \n",
              "822                      44.0786     39.917    32.7298    24.2847     16.2832   \n",
              "1306                     16.0463    14.5313    11.9149    8.84058     5.92772   \n",
              "931                      17.0094    15.4035      12.63    9.37116     6.28348   \n",
              "818                      70.3539    63.7116    52.2401    38.7609     25.9897   \n",
              "928                      17.1265    15.5095     12.717    9.43569     6.32675   \n",
              "411                      30.7522    27.8488    22.8345    16.9427     11.3603   \n",
              "1314                     8.69338    7.87261    6.45513    4.78954     3.21145   \n",
              "1022                     1.47059    1.33174    1.09196   0.810207    0.543254   \n",
              "...                          ...        ...        ...        ...         ...   \n",
              "420                       3.2405    2.93455    2.40618    1.78532     1.19708   \n",
              "1113                    0.234253   0.212136   0.173941    0.12906   0.0865361   \n",
              "803                     0.416449   0.377131   0.309228   0.229439    0.153842   \n",
              "913                      3.50078    3.17026    2.59944    1.92872     1.29323   \n",
              "1319                    0.767829   0.695336   0.570138   0.423029    0.283646   \n",
              "1019                     1.88704    1.70888    1.40119    1.03965    0.697096   \n",
              "616                      2.65486    2.40421    1.97133    1.46267    0.980742   \n",
              "827                      6.22071     5.6334    4.61909    3.42725     2.29801   \n",
              "516                      1.14524    1.03711   0.850376   0.630958    0.423065   \n",
              "1316                     0.48152   0.436058   0.357544   0.265289     0.17788   \n",
              "1035                   0.0520562  0.0471414  0.0386534  0.0286799   0.0192302   \n",
              "933                     0.143154   0.129639   0.106297  0.0788697   0.0528832   \n",
              "1021                     2.35554    2.13315    1.74907    1.29777    0.870168   \n",
              "603                      4.95835    4.49022    3.68174    2.73176     1.83168   \n",
              "526                       0.7418   0.671765   0.550812   0.408689    0.274031   \n",
              "613                     0.247267   0.223922   0.183604    0.13623   0.0913436   \n",
              "123                    0.0650702  0.0589268  0.0483168  0.0358499   0.0240378   \n",
              "527                     0.442477   0.400702   0.328554   0.243779    0.163457   \n",
              "935                    0.0520562  0.0471414  0.0386534  0.0286799   0.0192302   \n",
              "102                     0.311893   0.282533   0.231806   0.172156    0.115579   \n",
              "614                       1.6658    1.50852    1.23691   0.917757    0.615368   \n",
              "829                     0.182197   0.164995   0.135287    0.10038   0.0673058   \n",
              "1028                    0.117126   0.106068  0.0869703  0.0645298    0.043268   \n",
              "518                      1.15825     1.0489   0.860039   0.638128    0.427873   \n",
              "808                    0.0520562  0.0471414  0.0386534  0.0286799   0.0192302   \n",
              "510                    0.0650702  0.0589268  0.0483168  0.0358499   0.0240378   \n",
              "826                    0.0390421  0.0353561  0.0289901  0.0215099   0.0144227   \n",
              "129                     0.104112  0.0942828  0.0773069  0.0573598   0.0384605   \n",
              "1039                    0.442477   0.400702   0.328554   0.243779    0.163457   \n",
              "1118                   0.0260281  0.0235707  0.0193267  0.0143399  0.00961512   \n",
              "\n",
              "Location on Track (m)       0.303       0.322       0.341        0.359  \\\n",
              "Cell ID                                                                  \n",
              "609                       24.9677     13.5551     6.57974      2.84218   \n",
              "529                     0.0203414   0.0110435  0.00536059   0.00231555   \n",
              "1209                       28.324     15.3773     7.46424      3.22424   \n",
              "416                       1.21467    0.659455    0.320104     0.138272   \n",
              "828                       4.08282     2.21659     1.07595     0.464765   \n",
              "119                       22.8202     12.3892     6.01382      2.59772   \n",
              "410                       8.13077     4.41424     2.14271      0.92556   \n",
              "537                       24.7875     13.4573     6.53226      2.82167   \n",
              "615                       3.11515     1.69123    0.820936     0.354611   \n",
              "819                       2.19978     1.19428     0.57971     0.250411   \n",
              "305                       3.39993     1.84584    0.895985     0.387028   \n",
              "930                       9.66509     5.24724     2.54705      1.10022   \n",
              "103                       16.6103     9.04419     4.40542      1.91074   \n",
              "1303                      4.43443     2.40748     1.16861     0.504791   \n",
              "532                      0.412641    0.224025    0.108743    0.0469727   \n",
              "121                       2.41191     1.30944    0.635613     0.274559   \n",
              "403                      0.453324    0.246112    0.119465    0.0516038   \n",
              "927                       1.24373    0.675231    0.327762      0.14158   \n",
              "417                       3.51326     1.90737    0.925851     0.399929   \n",
              "920                       14.4424     7.84088     3.80602      1.64404   \n",
              "422                     0.0494006   0.0268199   0.0130186   0.00562349   \n",
              "1305                      2.11842      1.1501    0.558267     0.241148   \n",
              "822                       9.84235     5.34348     2.59376       1.1204   \n",
              "1306                        3.583     1.94523     0.94423     0.407868   \n",
              "931                       3.79804     2.06198      1.0009     0.432347   \n",
              "818                       15.7094     8.52874     4.13991      1.78827   \n",
              "928                       3.82419     2.07618     1.00779     0.435324   \n",
              "411                       6.86669     3.72797     1.80958     0.781665   \n",
              "1314                      1.94115     1.05387    0.511554      0.22097   \n",
              "1022                     0.328369    0.178274   0.0865353    0.0373797   \n",
              "...                           ...         ...         ...          ...   \n",
              "420                      0.723574    0.392833    0.190684    0.0823676   \n",
              "1113                    0.0523066   0.0283976   0.0137844   0.00595428   \n",
              "803                     0.0929895   0.0504846   0.0245056    0.0105854   \n",
              "913                      0.781693    0.424386       0.206    0.0889834   \n",
              "1319                     0.171449   0.0930809   0.0451821    0.0195168   \n",
              "1019                     0.421358    0.228758    0.111041     0.047965   \n",
              "616                      0.592808    0.321839    0.156223    0.0674819   \n",
              "827                       1.38903    0.754113    0.366052     0.158119   \n",
              "516                      0.255721    0.138833   0.0673903    0.0291098   \n",
              "1316                     0.107519   0.0583728   0.0283346    0.0122394   \n",
              "1035                    0.0116237  0.00631057   0.0030632   0.00132317   \n",
              "933                     0.0319651   0.0173541  0.00842379   0.00363873   \n",
              "1021                     0.525972    0.285553     0.13861    0.0598736   \n",
              "603                       1.10716    0.601082    0.291769     0.126032   \n",
              "526                      0.165637   0.0899256   0.0436505    0.0188552   \n",
              "613                     0.0552125   0.0299752   0.0145502   0.00628507   \n",
              "123                     0.0145296  0.00788821  0.00382899   0.00165397   \n",
              "527                     0.0988013   0.0536399   0.0260372     0.011247   \n",
              "935                     0.0116237  0.00631057   0.0030632   0.00132317   \n",
              "102                     0.0699741   0.0380644   0.0185204    0.0080222   \n",
              "614                      0.371958    0.201938   0.0980223    0.0423416   \n",
              "829                     0.0406829    0.022087   0.0107212   0.00463111   \n",
              "1028                    0.0261533   0.0141988  0.00689219   0.00297714   \n",
              "518                      0.258627     0.14041   0.0681561    0.0294406   \n",
              "808                     0.0116237  0.00631057   0.0030632   0.00132317   \n",
              "510                     0.0145296  0.00788821  0.00382899   0.00165397   \n",
              "826                    0.00871776  0.00473293   0.0022974   0.00099238   \n",
              "129                     0.0232474   0.0126211  0.00612639   0.00264635   \n",
              "1039                    0.0988013   0.0536399   0.0260372     0.011247   \n",
              "1118                   0.00581184  0.00315529   0.0015316  0.000661587   \n",
              "\n",
              "Location on Track (m)        0.378    ...            1.222        1.241  \\\n",
              "Cell ID                               ...                                 \n",
              "609                        1.08864    ...         0.489925      1.28976   \n",
              "529                    0.000886929    ...      0.000399148   0.00105079   \n",
              "1209                       1.23499    ...         0.555785      1.46314   \n",
              "416                      0.0529623    ...        0.0238348    0.0627469   \n",
              "828                       0.178019    ...        0.0801146     0.210908   \n",
              "119                       0.995007    ...         0.447787      1.17883   \n",
              "410                       0.354518    ...         0.159545     0.420014   \n",
              "537                        1.08079    ...          0.48639      1.28046   \n",
              "615                       0.135827    ...        0.0611266      0.16092   \n",
              "819                       0.095915    ...         0.043165     0.113635   \n",
              "305                       0.148244    ...        0.0667147     0.175631   \n",
              "930                       0.421418    ...         0.189652     0.499273   \n",
              "103                       0.735339    ...         0.324336     0.853838   \n",
              "1303                       0.19335    ...        0.0870142     0.229071   \n",
              "532                       0.017992    ...         0.008097    0.0213159   \n",
              "121                       0.105164    ...        0.0473275     0.124593   \n",
              "403                      0.0197658    ...       0.00889529    0.0234175   \n",
              "927                      0.0542294    ...         0.024405     0.064248   \n",
              "417                       0.153185    ...        0.0689385     0.181486   \n",
              "920                       0.629719    ...         0.283395     0.746058   \n",
              "422                     0.00215397    ...      0.000969359   0.00255191   \n",
              "1305                     0.0923673    ...        0.0415684     0.109432   \n",
              "822                       0.429147    ...          0.19313      0.50843   \n",
              "1306                      0.156226    ...         0.070307     0.185088   \n",
              "931                       0.165602    ...        0.0745266     0.196197   \n",
              "818                       0.684962    ...         0.308256     0.811507   \n",
              "928                       0.166743    ...        0.0750398     0.197548   \n",
              "411                       0.299402    ...         0.134741     0.354715   \n",
              "1314                     0.0846384    ...        0.0380901     0.100275   \n",
              "1022                     0.0143176    ...       0.00644338    0.0169627   \n",
              "...                            ...    ...              ...          ...   \n",
              "420                      0.0315493    ...        0.0141983    0.0373779   \n",
              "1113                    0.00228067    ...       0.00102638   0.00270202   \n",
              "803                     0.00405453    ...       0.00182468   0.00480359   \n",
              "913                      0.0340834    ...        0.0153387    0.0403802   \n",
              "1319                    0.00747554    ...       0.00336424   0.00885662   \n",
              "1019                     0.0183721    ...       0.00826806    0.0217663   \n",
              "616                      0.0258476    ...        0.0116323    0.0306229   \n",
              "827                      0.0605646    ...        0.0272561    0.0717536   \n",
              "516                        0.01115    ...       0.00501786    0.0132099   \n",
              "1316                    0.00468805    ...       0.00210978   0.00555415   \n",
              "1035                   0.000506816    ...      0.000228084  0.000600449   \n",
              "933                     0.00139375    ...      0.000627232   0.00165123   \n",
              "1021                     0.0229334    ...        0.0103208    0.0271703   \n",
              "603                      0.0482743    ...         0.021725    0.0571928   \n",
              "526                     0.00722213    ...        0.0032502    0.0085564   \n",
              "613                     0.00240738    ...        0.0010834   0.00285213   \n",
              "123                    0.000633521    ...      0.000285105  0.000750561   \n",
              "527                     0.00430794    ...       0.00193872   0.00510382   \n",
              "935                    0.000506816    ...      0.000228084  0.000600449   \n",
              "102                     0.00308262    ...       0.00136851   0.00360269   \n",
              "614                      0.0162181    ...        0.0072987    0.0192144   \n",
              "829                     0.00177386    ...      0.000798295   0.00210157   \n",
              "1028                    0.00114034    ...       0.00051319   0.00135101   \n",
              "518                      0.0112767    ...       0.00507488      0.01336   \n",
              "808                    0.000506816    ...      0.000228084  0.000600449   \n",
              "510                    0.000633521    ...      0.000285105  0.000750561   \n",
              "826                    0.000380112    ...      0.000171063  0.000450337   \n",
              "129                     0.00101363    ...      0.000456169    0.0012009   \n",
              "1039                    0.00430794    ...       0.00193872   0.00510382   \n",
              "1118                   0.000253408    ...      0.000114042  0.000300224   \n",
              "\n",
              "Location on Track (m)        1.259       1.278       1.297       1.316  \\\n",
              "Cell ID                                                                  \n",
              "609                        3.04357     6.43908     12.2286     20.8883   \n",
              "529                     0.00247963  0.00524599   0.0099628   0.0170179   \n",
              "1209                       3.45271     7.30466     13.8725     23.6962   \n",
              "416                        0.14807     0.31326    0.594922     1.01621   \n",
              "828                       0.497698     1.05294     1.99968     3.41574   \n",
              "119                         2.7818     5.88525     11.1768     19.0917   \n",
              "410                       0.991145      2.0969     3.98227      6.8023   \n",
              "537                        3.02161     6.39261     12.1404     20.7375   \n",
              "615                       0.379738    0.803386     1.52573     2.60617   \n",
              "819                       0.268155    0.567316     1.07741     1.84036   \n",
              "305                       0.414453     0.87683     1.66521     2.84442   \n",
              "930                        1.17818     2.49259     4.73375     8.08593   \n",
              "103                        2.01488     4.26274     8.09549     13.8283   \n",
              "1303                       0.54056     1.14363     2.17189      3.7099   \n",
              "532                      0.0503012    0.106419    0.202103     0.34522   \n",
              "121                       0.294014    0.622024      1.1813     2.01784   \n",
              "403                      0.0552604    0.116911    0.222028    0.379256   \n",
              "927                       0.151612    0.320755    0.609154     1.04052   \n",
              "417                       0.428268    0.906057     1.72072     2.93923   \n",
              "920                        1.76054     3.72465     7.07359     12.0827   \n",
              "422                     0.00602197   0.0127403   0.0241954   0.0413292   \n",
              "1305                      0.258236    0.546332     1.03755     1.77229   \n",
              "822                        1.19979     2.53831     4.82057     8.23423   \n",
              "1306                       0.43677    0.924043     1.75488     2.99758   \n",
              "931                       0.462983    0.979501      1.8602     3.17749   \n",
              "818                        1.91499      4.0514     7.69413     13.1427   \n",
              "928                       0.466171    0.986246     1.87301     3.19937   \n",
              "411                       0.837054      1.7709     3.36316     5.74476   \n",
              "1314                      0.236628    0.500617    0.950736     1.62399   \n",
              "1022                     0.0400284   0.0846852    0.160828    0.274718   \n",
              "...                            ...         ...         ...         ...   \n",
              "420                      0.0882041    0.186607    0.354391    0.605351   \n",
              "1113                     0.0063762   0.0134897   0.0256186   0.0437603   \n",
              "803                      0.0113355   0.0239817   0.0455442   0.0777961   \n",
              "913                      0.0952888    0.201596    0.382856    0.653974   \n",
              "1319                     0.0208998   0.0442162   0.0839722    0.143437   \n",
              "1019                     0.0513639    0.108667    0.206372    0.352514   \n",
              "616                      0.0722636    0.152883    0.290345     0.49595   \n",
              "827                       0.169324    0.358226    0.680317     1.16208   \n",
              "516                      0.0311725   0.0659496    0.125247    0.213939   \n",
              "1316                     0.0131066   0.0277288   0.0526605   0.0899518   \n",
              "1035                    0.00141693  0.00299771  0.00569303  0.00972452   \n",
              "933                     0.00389657   0.0082437   0.0156558   0.0267424   \n",
              "1021                     0.0641163    0.135646     0.25761    0.440034   \n",
              "603                       0.134963    0.285532    0.542261     0.92626   \n",
              "526                      0.0201913   0.0427173   0.0811257    0.138574   \n",
              "613                     0.00673044   0.0142391   0.0270419   0.0461914   \n",
              "123                     0.00177117  0.00374713  0.00711629   0.0121556   \n",
              "527                      0.0120439   0.0254805   0.0483908   0.0826584   \n",
              "935                     0.00141693  0.00299771  0.00569303  0.00972452   \n",
              "102                      0.0085016   0.0179862   0.0341582   0.0583471   \n",
              "614                      0.0453419   0.0959266    0.182177    0.311184   \n",
              "829                     0.00495927    0.010492   0.0199256   0.0340358   \n",
              "1028                     0.0031881  0.00674484   0.0128093   0.0218802   \n",
              "518                      0.0315268    0.066699     0.12667     0.21637   \n",
              "808                     0.00141693  0.00299771  0.00569303  0.00972452   \n",
              "510                     0.00177117  0.00374713  0.00711629   0.0121556   \n",
              "826                      0.0010627  0.00224828  0.00426977  0.00729339   \n",
              "129                     0.00283387  0.00599542   0.0113861    0.019449   \n",
              "1039                     0.0120439   0.0254805   0.0483908   0.0826584   \n",
              "1118                   0.000708467  0.00149885  0.00284652  0.00486226   \n",
              "\n",
              "Location on Track (m)       1.334      1.353      1.372      1.391  \n",
              "Cell ID                                                             \n",
              "609                       32.1405    44.5456    55.5085    62.0238  \n",
              "529                     0.0261852  0.0362918  0.0452234  0.0505315  \n",
              "1209                       36.461    50.5337    62.9703    70.3615  \n",
              "416                       1.56363    2.16714    2.70048    3.01745  \n",
              "828                       5.25575    7.28428    9.07698    10.1424  \n",
              "119                       29.3761    40.7142    50.7342    56.6891  \n",
              "410                       10.4666    14.5063    18.0764    20.1982  \n",
              "537                       31.9086    44.2241    55.1079    61.5762  \n",
              "615                       4.01008    5.55783    6.92564    7.73853  \n",
              "819                       2.83174     3.9247    4.89059    5.46462  \n",
              "305                       4.37667    6.06591    7.55877    8.44597  \n",
              "930                       12.4417    17.2438    21.4876    24.0097  \n",
              "103                       21.2774    29.4897    36.7472    41.0604  \n",
              "1303                      5.70838    7.91161     9.8587    11.0159  \n",
              "532                      0.531186   0.736205   0.917389    1.02507  \n",
              "121                       3.10482    4.30317     5.3622    5.99159  \n",
              "403                      0.583556   0.808788    1.00784    1.12613  \n",
              "927                       1.60104    2.21898    2.76509    3.08964  \n",
              "417                       4.52256    6.26811    7.81072    8.72751  \n",
              "920                       18.5915    25.7672    32.1086    35.8773  \n",
              "422                     0.0635927  0.0881372   0.109828   0.122719  \n",
              "1305                        2.727    3.77953    4.70969    5.26249  \n",
              "822                       12.6699      17.56    21.8817      24.45  \n",
              "1306                      4.61234    6.39254    7.96578    8.90076  \n",
              "931                       4.88915     6.7762    8.44385    9.43495  \n",
              "818                       20.2225    28.0276    34.9254    39.0247  \n",
              "928                       4.92282    6.82286      8.502    9.49992  \n",
              "411                       8.83938    12.2511    15.2661     17.058  \n",
              "1314                      2.49882    3.46327     4.3156    4.82215  \n",
              "1022                     0.422704   0.585853   0.730035   0.815722  \n",
              "...                           ...        ...        ...        ...  \n",
              "420                      0.931446    1.29095    1.60866    1.79748  \n",
              "1113                    0.0673334  0.0933217   0.116289   0.129938  \n",
              "803                      0.119704   0.165905   0.206735   0.231001  \n",
              "913                       1.00626    1.39464    1.73787    1.94185  \n",
              "1319                     0.220704   0.305888   0.381168   0.425908  \n",
              "1019                     0.542408   0.751758    0.93677    1.04672  \n",
              "616                      0.763112    1.05765    1.31794    1.47263  \n",
              "827                       1.78808    2.47821    3.08811    3.45058  \n",
              "516                      0.329186    0.45624   0.568523   0.635253  \n",
              "1316                     0.138408   0.191828   0.239038   0.267095  \n",
              "1035                     0.014963  0.0207382  0.0258419  0.0288751  \n",
              "933                     0.0411482    0.05703  0.0710653  0.0794066  \n",
              "1021                     0.677075   0.938402    1.16935     1.3066  \n",
              "603                       1.42522    1.97531    2.46144    2.75036  \n",
              "526                      0.213222   0.295519   0.368248   0.411471  \n",
              "613                     0.0710742  0.0985063   0.122749   0.137157  \n",
              "123                     0.0187037  0.0259227  0.0323024  0.0360939  \n",
              "527                      0.127185   0.176274   0.219656   0.245439  \n",
              "935                      0.014963  0.0207382  0.0258419  0.0288751  \n",
              "102                     0.0897779   0.124429   0.155052   0.173251  \n",
              "614                      0.478815   0.663621   0.826942   0.924004  \n",
              "829                     0.0523704  0.0725836  0.0904468   0.101063  \n",
              "1028                    0.0336667  0.0466609  0.0581443   0.064969  \n",
              "518                      0.332926   0.461424   0.574983   0.642472  \n",
              "808                      0.014963  0.0207382  0.0258419  0.0288751  \n",
              "510                     0.0187037  0.0259227  0.0323024  0.0360939  \n",
              "826                     0.0112222  0.0155536  0.0193814  0.0216563  \n",
              "129                      0.029926  0.0414763  0.0516839  0.0577503  \n",
              "1039                     0.127185   0.176274   0.219656   0.245439  \n",
              "1118                   0.00748149  0.0103691   0.012921  0.0144376  \n",
              "\n",
              "[136 rows x 64 columns]"
            ]
          },
          "metadata": {
            "tags": []
          },
          "execution_count": 13
        }
      ]
    },
    {
      "metadata": {
        "id": "ULKuY6KiC8wT",
        "colab_type": "text"
      },
      "cell_type": "markdown",
      "source": [
        "#### Sometimes we end up with missing values, and we need to fill in real numbers so that our other algorithm don't get confused.  You can replace missing values with `fillna(x)`, where x is the value to use to replace missing values with.  Replace the missing values in `spike_rates` with 0's.  "
      ]
    },
    {
      "metadata": {
        "id": "B0PpzJ-4C8wX",
        "colab_type": "code",
        "colab": {}
      },
      "cell_type": "code",
      "source": [
        "spike_rates = spike_rates.fillna(0)"
      ],
      "execution_count": 0,
      "outputs": []
    },
    {
      "metadata": {
        "id": "d2tT74QjC8wo",
        "colab_type": "text"
      },
      "cell_type": "markdown",
      "source": [
        "#### Let's visualize these spike rates using a heatmap.  "
      ]
    },
    {
      "metadata": {
        "id": "4YOu6sCHC8wu",
        "colab_type": "code",
        "outputId": "186431e1-05ba-49be-d31b-a18dd18063fa",
        "colab": {
          "base_uri": "https://localhost:8080/",
          "height": 333
        }
      },
      "cell_type": "code",
      "source": [
        "hm = sns.heatmap(spike_rates, cbar_kws={'label':'Spike Rate (Hz)'});"
      ],
      "execution_count": 15,
      "outputs": [
        {
          "output_type": "display_data",
          "data": {
            "image/png": "[encoded data removed]",
            "text/plain": [
              "<Figure size 432x288 with 2 Axes>"
            ]
          },
          "metadata": {
            "tags": []
          }
        }
      ]
    },
    {
      "metadata": {
        "id": "lNvsa4E9C8w5",
        "colab_type": "text"
      },
      "cell_type": "markdown",
      "source": [
        "#### Note that there are actually many more cells shown here than just the dozen or so cell labels.  It is conveniently only drawing a few of the cell ID labels to declutter the screen, but you an make it draw more if you want (ask me about it).  \n",
        "\n",
        "#### Still, this isn't very interesting yet.  The cells that fire at high rates are drowning out the signal from the ones that fire at low rates, in our figure.  And it isn't clear how to order the cells, since the cell ID is arbitrary.  We can solve a bunch of problems at once with a cool visualization called a cluster map. "
      ]
    },
    {
      "metadata": {
        "id": "bj-obj34C8w8",
        "colab_type": "text"
      },
      "cell_type": "markdown",
      "source": [
        "### (c)\n",
        "#### First, we can normalize all the cells by computing a new \"normalized\" spike rate that has the same mean value across the track for every cell.  We do this by dividing through by the mean of each row, which is trickier than it sounds.  In the first line, compute the mean spike rate for each cell (each row) using the `.mean()` method on the `spike_rates` dataframe, choosing axis number 1 to compute the mean over.  (0 and 1 are the rows and columns).  "
      ]
    },
    {
      "metadata": {
        "id": "C7OP3YRSC8xA",
        "colab_type": "code",
        "colab": {}
      },
      "cell_type": "code",
      "source": [
        "spike_rates_mean = spike_rates.mean(axis=1)"
      ],
      "execution_count": 0,
      "outputs": []
    },
    {
      "metadata": {
        "id": "41qzynndC8xM",
        "colab_type": "text"
      },
      "cell_type": "markdown",
      "source": [
        "### (d)\n",
        "#### Next, we divide our original `spike_rates` by these mean spike rates. Now you need to switch the axis, because whereas we computed the mean in one direction of the dataframe, we are dividing in the other!"
      ]
    },
    {
      "metadata": {
        "id": "DuIUArLqC8xP",
        "colab_type": "code",
        "colab": {}
      },
      "cell_type": "code",
      "source": [
        "spike_rates_normalized = spike_rates.div(spike_rates_mean, axis=0)"
      ],
      "execution_count": 0,
      "outputs": []
    },
    {
      "metadata": {
        "id": "8K9XGqK3C8xZ",
        "colab_type": "text"
      },
      "cell_type": "markdown",
      "source": [
        "### (e)\n",
        "#### Now if we make the heatmap with this normalized data, we should see some patches where specific cells preferentially respond -- their receptive fields!  "
      ]
    },
    {
      "metadata": {
        "id": "U7Zn5YD2C8xc",
        "colab_type": "code",
        "outputId": "7431da8a-af0e-4f19-b021-abc6018f9f62",
        "colab": {
          "base_uri": "https://localhost:8080/",
          "height": 333
        }
      },
      "cell_type": "code",
      "source": [
        "cm = sns.heatmap(spike_rates_normalized, cbar_kws={'label':'Fold-change in spike rate'})"
      ],
      "execution_count": 18,
      "outputs": [
        {
          "output_type": "display_data",
          "data": {
            "image/png": "[encoded data removed]",
            "text/plain": [
              "<Figure size 432x288 with 2 Axes>"
            ]
          },
          "metadata": {
            "tags": []
          }
        }
      ]
    },
    {
      "metadata": {
        "id": "Eif-zzrQC8xl",
        "colab_type": "text"
      },
      "cell_type": "markdown",
      "source": [
        "#### We still don't know how the cells relate to one another (are their clusters of cells that do the same thing?) The function `sns.clustermap` takes care of this for us by hierarchically sorting the data, and does some other nice things.  For example, it can compute Z-scores, so that instead of just seeing fold-changes relative to the mean, we can see how significant the changes are in a statistical sense.  "
      ]
    },
    {
      "metadata": {
        "id": "TkbViCdOC8xp",
        "colab_type": "code",
        "outputId": "2d21201b-68fe-4759-ba33-f6506f7da29c",
        "colab": {
          "base_uri": "https://localhost:8080/",
          "height": 659
        }
      },
      "cell_type": "code",
      "source": [
        "cm = sns.clustermap(spike_rates, col_cluster=False, z_score=0, cbar_kws={'label':'Z-score'})"
      ],
      "execution_count": 19,
      "outputs": [
        {
          "output_type": "display_data",
          "data": {
            "image/png": "[encoded data removed]",
            "text/plain": [
              "<Figure size 720x720 with 4 Axes>"
            ]
          },
          "metadata": {
            "tags": []
          }
        }
      ]
    },
    {
      "metadata": {
        "id": "eNKKpSa7C8x1",
        "colab_type": "text"
      },
      "cell_type": "markdown",
      "source": [
        "### (f)\n",
        "#### One last touch: let's change the color map to make it easier to tell positive (higher rate than average) from negative (lower rate than average), and the range of colors to highlight significance levels.  For `vmin` and `vmax` set some typical significance cutoffs for a Z-score on the low and high end respectively (or ask me if you haven't seen Z-scores before).  "
      ]
    },
    {
      "metadata": {
        "id": "kvYsDNZTC8x4",
        "colab_type": "code",
        "outputId": "02b56ce3-9ab0-4bca-819c-e707268bcc1d",
        "colab": {
          "base_uri": "https://localhost:8080/",
          "height": 660
        }
      },
      "cell_type": "code",
      "source": [
        "cm = sns.clustermap(spike_rates, \n",
        "                    vmin=-3, # The bluest color will be this Z-score\n",
        "                    vmax=3, # The reddest color will be this Z-score\n",
        "                    cmap='RdBu_r', # This is the name of a color map, in this case from Blue to Red\n",
        "                    col_cluster=False, \n",
        "                    z_score=0, # This tells the function to compute the Z-score in each row (i.e. for each cell across track locations)\n",
        "                    cbar_kws={'label':'Z-score'})"
      ],
      "execution_count": 20,
      "outputs": [
        {
          "output_type": "display_data",
          "data": {
            "image/png": "[encoded data removed]",
            "text/plain": [
              "<Figure size 720x720 with 4 Axes>"
            ]
          },
          "metadata": {
            "tags": []
          }
        }
      ]
    },
    {
      "metadata": {
        "id": "GHNfRtG1C8yC",
        "colab_type": "text"
      },
      "cell_type": "markdown",
      "source": [
        "## (3)"
      ]
    },
    {
      "metadata": {
        "id": "4EBIgj3iC8yF",
        "colab_type": "text"
      },
      "cell_type": "markdown",
      "source": [
        "### The figure above is pretty cool.  We can clearly see which cells are active at which parts of the track, and similarly-responding cells are grouped together.  Now let's use pieces of this figure to answer questions.  "
      ]
    },
    {
      "metadata": {
        "id": "Pb0qYwubC8yI",
        "colab_type": "text"
      },
      "cell_type": "markdown",
      "source": [
        "### (a)\n",
        "#### First, let's extract one cell from the `spike_rates` data that we computed earlier, in particular cell #1106 (accessible by it's integer representation).  Then let's plot it's tuning curve -- this is just a slice through the figure above, but it shows us very clearly at what part of the track this particular cell responds most.  "
      ]
    },
    {
      "metadata": {
        "id": "bG7KmhmEC8yM",
        "colab_type": "code",
        "outputId": "bcb37018-abcf-4428-e09e-7cc57b482e12",
        "colab": {
          "base_uri": "https://localhost:8080/",
          "height": 318
        }
      },
      "cell_type": "code",
      "source": [
        "cell_id = 1106\n",
        "one_cell_spike_rates = spike_rates.loc[cell_id]\n",
        "one_cell_spike_rates.plot();\n",
        "plt.ylabel('Firing Rate (Hz)');\n",
        "plt.title('Receptive field for cell %d' %cell_id);"
      ],
      "execution_count": 21,
      "outputs": [
        {
          "output_type": "display_data",
          "data": {
            "image/png": "[encoded data removed]",
            "text/plain": [
              "<Figure size 432x288 with 1 Axes>"
            ]
          },
          "metadata": {
            "tags": []
          }
        }
      ]
    },
    {
      "metadata": {
        "id": "UILx9AHSC8yX",
        "colab_type": "text"
      },
      "cell_type": "markdown",
      "source": [
        "### (b) \n",
        "#### What is the maximum firing rate for this cell (use `.max()`, and where on the track does it occur (use `.idxmax()`).  Use a print statement to write your answer.  Include units.  "
      ]
    },
    {
      "metadata": {
        "id": "dVCKEh_VC8yZ",
        "colab_type": "code",
        "outputId": "e99451a9-3d0c-4dc7-f35b-46aa1b71a764",
        "colab": {
          "base_uri": "https://localhost:8080/",
          "height": 34
        }
      },
      "cell_type": "code",
      "source": [
        "print(\"The maximum is %d and it occurs at %d\" % (one_cell_spike_rates.max(), one_cell_spike_rates.idxmax()))"
      ],
      "execution_count": 22,
      "outputs": [
        {
          "output_type": "stream",
          "text": [
            "The maximum is 2 and it occurs at 0\n"
          ],
          "name": "stdout"
        }
      ]
    },
    {
      "metadata": {
        "id": "Yfq_PZHuC8yj",
        "colab_type": "text"
      },
      "cell_type": "markdown",
      "source": [
        "### (c)\n",
        "#### Compute the width of this tuning curve, defined as the width at half of it's maximum height.  You can use a selector to extract the part that is above half of the maximum height, and then subtract the last and first values of the extract data's index (which is in units of meters).  "
      ]
    },
    {
      "metadata": {
        "id": "j1DmK0s8C8yk",
        "colab_type": "code",
        "colab": {
          "base_uri": "https://localhost:8080/",
          "height": 130
        },
        "outputId": "3ba2e30b-9710-430f-af69-9b63a39bac9b"
      },
      "cell_type": "code",
      "source": [
        "is_it_above_half_max = one_cell_spike_rates > one_cell_spike_rates.max()/2\n",
        "only_those_above_half_max = one_cell_spike_rates[is_it_above_half_max]\n",
        "first_location = only_those_above_half_max[only_those_above_half_max.idxmin(axis=1, skipna=True)]#The left-edge of the width\n",
        "last_location = only_those_above_half_max[[only_those_above_half_max.idxmax(axis=1, skipna=True)] # The right-edge of the width\n",
        "print(\"The width is %3g\" % (last_location - first_location))"
      ],
      "execution_count": 25,
      "outputs": [
        {
          "output_type": "error",
          "ename": "SyntaxError",
          "evalue": "ignored",
          "traceback": [
            "\u001b[0;36m  File \u001b[0;32m\"<ipython-input-25-92f7275e8ea9>\"\u001b[0;36m, line \u001b[0;32m5\u001b[0m\n\u001b[0;31m    print(\"The width is %3g\" % (last_location - first_location))\u001b[0m\n\u001b[0m        ^\u001b[0m\n\u001b[0;31mSyntaxError\u001b[0m\u001b[0;31m:\u001b[0m invalid syntax\n"
          ]
        }
      ]
    },
    {
      "metadata": {
        "id": "7zTvbqijC8yp",
        "colab_type": "text"
      },
      "cell_type": "markdown",
      "source": [
        "## (4)\n",
        "### (a)\n",
        "#### Now let's see if we can use the tuning curves of these cells to decode the position of the rat at a given time.  This means figuring out where the rat is based only on the activity of neurons in its brain.  First, let's extract a narrow range of time (0.2 seconds) and see where the rat was over that period of time.  "
      ]
    },
    {
      "metadata": {
        "id": "w2OEgd5jC8yq",
        "colab_type": "code",
        "colab": {
          "base_uri": "https://localhost:8080/",
          "height": 187
        },
        "outputId": "4ad64855-44f6-494f-8320-adc2f140ffa0"
      },
      "cell_type": "code",
      "source": [
        "t_begin = 19004.8\n",
        "t_end = t_begin + 0.2\n",
        "is_time_in_range = (locations.index>t_begin) & (locations.index<t_end)\n",
        "current_locations = locations[is_time_in_range]['d'] # First elipsis to select matching rows; second elipsis to select the column contains the track location\n",
        "current_locations"
      ],
      "execution_count": 26,
      "outputs": [
        {
          "output_type": "execute_result",
          "data": {
            "text/plain": [
              "t\n",
              "19004.808778    1.127201\n",
              "19004.834378    1.098599\n",
              "19004.859977    1.068989\n",
              "19004.885577    1.042070\n",
              "19004.911177    1.019299\n",
              "19004.936777    1.004831\n",
              "19004.962377    0.986472\n",
              "19004.987977    0.961660\n",
              "Name: d, dtype: float64"
            ]
          },
          "metadata": {
            "tags": []
          },
          "execution_count": 26
        }
      ]
    },
    {
      "metadata": {
        "id": "8KDKxmVgC8yu",
        "colab_type": "text"
      },
      "cell_type": "markdown",
      "source": [
        "### (b)\n",
        "#### Next, let's extract only the spikes that occurred in that range of time so we can figure out if they tell us anything.  "
      ]
    },
    {
      "metadata": {
        "id": "qNHMR7P2C8yv",
        "colab_type": "code",
        "colab": {
          "base_uri": "https://localhost:8080/",
          "height": 136
        },
        "outputId": "89798a87-5324-4a0c-c54e-557ce6a2394f"
      },
      "cell_type": "code",
      "source": [
        "is_time_in_range = (spikes.index>t_begin) & (spikes.index<t_end) # First elipsis in each case is NOT `locations`, but the data frame containing spike information!\n",
        "current_spikes_cell_ids = spikes[is_time_in_range]['cell_ids'] # Extract the cell_ids for spikes that occurred during this time range\n",
        "current_spikes_cell_ids.head()"
      ],
      "execution_count": 27,
      "outputs": [
        {
          "output_type": "execute_result",
          "data": {
            "text/plain": [
              "t\n",
              "19004.80215     537\n",
              "19004.80230     818\n",
              "19004.80370     119\n",
              "19004.80420     411\n",
              "19004.80505    1209\n",
              "Name: cell_ids, dtype: int64"
            ]
          },
          "metadata": {
            "tags": []
          },
          "execution_count": 27
        }
      ]
    },
    {
      "metadata": {
        "id": "og8JjUqzC8yz",
        "colab_type": "text"
      },
      "cell_type": "markdown",
      "source": [
        "### (c) \n",
        "#### Bayes theorem says that $p(x | s) = p(s | x) * p(x) / p(s)$\n",
        "#### This means that the probability that the rate is at position `x`, given that know about some spikes `s`, is proportional to the probability of some spikes `s` having occurred at position `x`.  The term $p(s|x)/p(s)$ is basically just the normalized firing rate we computed earlier -- the probability of spiking at one position divided by the probability of spiking at any position.  We also computed the term $p(x)$ earlier -- that is just the normalized duration that the rat spends at each position.  It is pretty constant, so we can just ignore it. \n",
        "#### Let's construct our decoder using Bayes theorem.  First, let's make an empty data frame by re-using an old one and setting all the values to 0.  Then, for each cell that could helps us decode the rat's location, let's add the term $p(s | x) / p(s)$, which is just the normalized spike rate we computed earlier.  "
      ]
    },
    {
      "metadata": {
        "id": "hLgvemwjC8y0",
        "colab_type": "code",
        "colab": {}
      },
      "cell_type": "code",
      "source": [
        "decoder = spike_rates_normalized.copy() * 0\n",
        "for cell_id in current_spikes_cell_ids:\n",
        "    decoder.loc[cell_id] += spike_rates_normalized.loc[cell_id]"
      ],
      "execution_count": 0,
      "outputs": []
    },
    {
      "metadata": {
        "id": "pJOqh_InC8y4",
        "colab_type": "text"
      },
      "cell_type": "markdown",
      "source": [
        "### (d)\n",
        "#### Let's allow every cell to contribute equally to decoding.  Take the mean of the decoder across cells with the `.mean()` method, then plot it with the `.plot()` method.  "
      ]
    },
    {
      "metadata": {
        "id": "NuGvuV11C8y5",
        "colab_type": "code",
        "colab": {
          "base_uri": "https://localhost:8080/",
          "height": 321
        },
        "outputId": "f31ed18a-ba42-4e3c-d6d3-a75796d57ab8"
      },
      "cell_type": "code",
      "source": [
        "decoder_mean = decoder.mean()\n",
        "decoder_mean.plot()# Use this line to plot"
      ],
      "execution_count": 29,
      "outputs": [
        {
          "output_type": "execute_result",
          "data": {
            "text/plain": [
              "<matplotlib.axes._subplots.AxesSubplot at 0x7f867a956940>"
            ]
          },
          "metadata": {
            "tags": []
          },
          "execution_count": 29
        },
        {
          "output_type": "display_data",
          "data": {
            "image/png": "[encoded data removed]",
            "text/plain": [
              "<Figure size 432x288 with 1 Axes>"
            ]
          },
          "metadata": {
            "tags": []
          }
        }
      ]
    },
    {
      "metadata": {
        "id": "Vm1HhSCbC8y8",
        "colab_type": "text"
      },
      "cell_type": "markdown",
      "source": [
        "### (e)\n",
        "#### According to our neural decoder, what is the highest probability location?  How does that compare to the rat's actual location during that time?  Do rat neurons know where they are?  "
      ]
    },
    {
      "metadata": {
        "id": "Zrx1HHI5C8y9",
        "colab_type": "code",
        "colab": {
          "base_uri": "https://localhost:8080/",
          "height": 34
        },
        "outputId": "dd093117-be11-4bee-f7e9-88b8f46f3e0e"
      },
      "cell_type": "code",
      "source": [
        "print(\"The decoder says %3g m and the actual location is %3g m, which are %s\" % \n",
        "      (decoder_mean.idxmax(), current_locations.mean(), \"INSERT HERE SOMETHING ABOUT HOW CLOSE YOU THINK THEY ARE\")) # First elipsis is deocoder peak location; second elipsis is average real location of the rat during that time period"
      ],
      "execution_count": 30,
      "outputs": [
        {
          "output_type": "stream",
          "text": [
            "The decoder says 0.209 m and the actual location is 1.03864 m, which are INSERT HERE SOMETHING ABOUT HOW CLOSE YOU THINK THEY ARE\n"
          ],
          "name": "stdout"
        }
      ]
    },
    {
      "metadata": {
        "id": "s6RL9IvbC8zB",
        "colab_type": "text"
      },
      "cell_type": "markdown",
      "source": [
        "#### In fact, sometimes the neurons encode where the rat is going, not where he is!  "
      ]
    },
    {
      "metadata": {
        "id": "OhahyVf5C8zD",
        "colab_type": "text"
      },
      "cell_type": "markdown",
      "source": [
        "## (5)\n",
        "#### How much information can spikes convey?  We can compute information by first measuring the uncertainty that we have about location, and then figuring out how much that uncertainty is reduced by decoding some information about location from the spikes.  "
      ]
    },
    {
      "metadata": {
        "id": "9uMFB02yC8zG",
        "colab_type": "text"
      },
      "cell_type": "markdown",
      "source": [
        "### (a)\n",
        "#### First, let's compute the probability distribution across locations.  Probability distributions must integrate to 1 (or sum to 1), and we achieve this by dividing the durations at each location by the total duration of the experiment.  "
      ]
    },
    {
      "metadata": {
        "id": "xSSk8vygC8zH",
        "colab_type": "code",
        "colab": {
          "base_uri": "https://localhost:8080/",
          "height": 327
        },
        "outputId": "40abac10-6146-49cf-95ee-5f49029eb98c"
      },
      "cell_type": "code",
      "source": [
        "total_duration = durations_at_each_location.sum()\n",
        "probabilty_at_each_location = durations_at_each_location / total_duration\n",
        "plt.plot(bin_centers, probabilty_at_each_location)\n",
        "plt.xlabel('Location on track (m)')\n",
        "plt.ylabel('Probability of being in location');"
      ],
      "execution_count": 32,
      "outputs": [
        {
          "output_type": "display_data",
          "data": {
            "image/png": "[encoded data removed]",
            "text/plain": [
              "<Figure size 432x288 with 1 Axes>"
            ]
          },
          "metadata": {
            "tags": []
          }
        }
      ]
    },
    {
      "metadata": {
        "id": "sV9_bq71C8zK",
        "colab_type": "text"
      },
      "cell_type": "markdown",
      "source": [
        "### (b)\n",
        "#### Next, we compute the entropy, which measures our uncertainty about location.  We divided up location into 64 bins, which is a really convenient choice for the following reason: If the rat is equally likely to be in each of the 64 location bins, then that is like flipping 6 fair coins -- there are $2^6$ possible states, and all are equally probable, therefore there are 6 bits of entropy.  "
      ]
    },
    {
      "metadata": {
        "id": "hjR-AAOxC8zL",
        "colab_type": "code",
        "colab": {
          "base_uri": "https://localhost:8080/",
          "height": 34
        },
        "outputId": "53281a57-4eb8-45f8-863f-80a42baeca4e"
      },
      "cell_type": "code",
      "source": [
        "# Create an array of 64 values, each containing 1/64th\n",
        "# This is a valid probability distribution, since it adds up to 1.  \n",
        "p = np.ones(64)/64 # Hint: both elipsis are the same number!\n",
        "\n",
        "# Compute the entropy of that distribution\n",
        "h = -np.sum(p * np.log2(p))\n",
        "\n",
        "# Report that entropy\n",
        "print(\"The entropy is %d bits\" % h)"
      ],
      "execution_count": 33,
      "outputs": [
        {
          "output_type": "stream",
          "text": [
            "The entropy is 6 bits\n"
          ],
          "name": "stdout"
        }
      ]
    },
    {
      "metadata": {
        "id": "ERKZz4J8C8zO",
        "colab_type": "text"
      },
      "cell_type": "markdown",
      "source": [
        "### (c)\n",
        "#### Now we do this for the actual probability distribution $p(x)$ in (a)"
      ]
    },
    {
      "metadata": {
        "id": "-dDDCJBbC8zP",
        "colab_type": "code",
        "colab": {
          "base_uri": "https://localhost:8080/",
          "height": 34
        },
        "outputId": "28b82d84-9bcb-4a8b-a566-64e0cd6317f5"
      },
      "cell_type": "code",
      "source": [
        "p_x = probabilty_at_each_location\n",
        "h = -np.sum(p_x * np.log2(p_x))\n",
        "print(\"The entropy (uncertainty) of the rat's location is %.3g bits\" % h)"
      ],
      "execution_count": 34,
      "outputs": [
        {
          "output_type": "stream",
          "text": [
            "The entropy (uncertainty) of the rat's location is 5.98 bits\n"
          ],
          "name": "stdout"
        }
      ]
    },
    {
      "metadata": {
        "id": "IClgX683C8zX",
        "colab_type": "text"
      },
      "cell_type": "markdown",
      "source": [
        "### (d)\n",
        "#### Bayes's theorem says that the conditional probability distribution p(x|s), the probability of finding the rat at location `x` given that a spike has occurred, is given by $p(x | s) = p(s | x) * p(x) / p(s)$.  p(x) is what we just looked at in (c).  $p(s | x) / p(s)$ is the normalized spike rate for the cell in question.  Let's assume that the cell that spiked is cell 1106.  Compute $p(x | s)$, and then the new entropy given that the cell spiked. "
      ]
    },
    {
      "metadata": {
        "id": "-8xJPxJgC8zY",
        "colab_type": "code",
        "colab": {
          "base_uri": "https://localhost:8080/",
          "height": 68
        },
        "outputId": "1e8f1db4-7749-4165-99d5-37d22fc9143f"
      },
      "cell_type": "code",
      "source": [
        "p_x_s = p_x * spike_rates_normalized.loc[cell_id]\n",
        "h_s = -np.sum(p_x_s * np.log2(p_x_s))\n",
        "print(\"The entropy (uncertainty) of the rat's location is now only %.3g bits\" % h_s)"
      ],
      "execution_count": 35,
      "outputs": [
        {
          "output_type": "stream",
          "text": [
            "The entropy (uncertainty) of the rat's location is now only 3.84 bits\n"
          ],
          "name": "stdout"
        },
        {
          "output_type": "stream",
          "text": [
            "/usr/local/lib/python3.6/dist-packages/ipykernel_launcher.py:2: RuntimeWarning: divide by zero encountered in log2\n",
            "  \n"
          ],
          "name": "stderr"
        }
      ]
    },
    {
      "metadata": {
        "id": "I2heXbrrC8zc",
        "colab_type": "text"
      },
      "cell_type": "markdown",
      "source": [
        "### (e)\n",
        "#### How much information was gained?  This is just the old entropy minus the new entropy, i.e. the reduction of entropy.  Information is just the reduction of uncertainty.  "
      ]
    },
    {
      "metadata": {
        "id": "D_rIGNOgC8zd",
        "colab_type": "code",
        "colab": {
          "base_uri": "https://localhost:8080/",
          "height": 34
        },
        "outputId": "db630bd3-af18-42b6-abde-33915dd082ca"
      },
      "cell_type": "code",
      "source": [
        "print(\"The information provided by the spike about the rat's location is %.3g bits\" % (h-h_s))"
      ],
      "execution_count": 36,
      "outputs": [
        {
          "output_type": "stream",
          "text": [
            "The information provided by the spike about the rat's location is 2.14 bits\n"
          ],
          "name": "stdout"
        }
      ]
    },
    {
      "metadata": {
        "id": "GKYSrkFsC8zi",
        "colab_type": "text"
      },
      "cell_type": "markdown",
      "source": [
        "#### Our uncertainty about the rat's location used to be about the same as that present in the outcome of 6 consecutive coin flips.  Seeing just one spike reduces that by about half a coin flip!"
      ]
    }
  ]
}